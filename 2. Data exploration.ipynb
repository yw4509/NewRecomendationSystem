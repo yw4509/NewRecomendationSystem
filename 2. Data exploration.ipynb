{
 "cells": [
  {
   "cell_type": "code",
   "execution_count": 1,
   "metadata": {
    "colab": {
     "base_uri": "https://localhost:8080/",
     "height": 54
    },
    "colab_type": "code",
    "executionInfo": {
     "elapsed": 563,
     "status": "ok",
     "timestamp": 1576283158325,
     "user": {
      "displayName": "Haoxue Li",
      "photoUrl": "",
      "userId": "02132541566044588005"
     },
     "user_tz": 300
    },
    "id": "FAOl6HOx1pEz",
    "outputId": "a1c56d4a-12f8-4adf-e38e-aba849be327e"
   },
   "outputs": [
    {
     "name": "stdout",
     "output_type": "stream",
     "text": [
      "Drive already mounted at /content/drive; to attempt to forcibly remount, call drive.mount(\"/content/drive\", force_remount=True).\n"
     ]
    }
   ],
   "source": [
    "from google.colab import drive\n",
    "drive.mount('/content/drive')"
   ]
  },
  {
   "cell_type": "markdown",
   "metadata": {
    "colab_type": "text",
    "id": "S785XjQQ1HQb"
   },
   "source": [
    "# Import"
   ]
  },
  {
   "cell_type": "code",
   "execution_count": null,
   "metadata": {
    "colab": {},
    "colab_type": "code",
    "id": "YVCI7K3k1HQd"
   },
   "outputs": [],
   "source": [
    "import pandas as pd\n",
    "import numpy as np\n",
    "from pprint import pprint\n",
    "import os\n",
    "from tqdm import tqdm\n",
    "from sklearn.model_selection import train_test_split\n",
    "from sklearn.metrics.pairwise import cosine_similarity\n",
    "import time\n",
    "from _operator import itemgetter\n",
    "from math import sqrt\n",
    "import random \n",
    "import time\n",
    "import matplotlib.pyplot as plt\n",
    "%matplotlib inline"
   ]
  },
  {
   "cell_type": "code",
   "execution_count": null,
   "metadata": {
    "colab": {},
    "colab_type": "code",
    "id": "MOb992AK1HQh"
   },
   "outputs": [],
   "source": [
    "path=\"drive/My Drive/1001_project_Total/Data/\"\n",
    "df1=pd.read_csv(path+\"20170101_prestage.csv\")"
   ]
  },
  {
   "cell_type": "code",
   "execution_count": 4,
   "metadata": {
    "colab": {
     "base_uri": "https://localhost:8080/",
     "height": 139
    },
    "colab_type": "code",
    "executionInfo": {
     "elapsed": 13739,
     "status": "ok",
     "timestamp": 1576283173949,
     "user": {
      "displayName": "Haoxue Li",
      "photoUrl": "",
      "userId": "02132541566044588005"
     },
     "user_tz": 300
    },
    "id": "T21VgitQ1HQk",
    "outputId": "198fb0de-f461-410b-f86c-d5fcae7bdd9f"
   },
   "outputs": [
    {
     "data": {
      "text/plain": [
       "Index(['profile', 'category1', 'canonicalUrl', 'referrerHostClass',\n",
       "       'sessionStop', 'userId', 'publishtime', 'sessionStart', 'referrerUrl',\n",
       "       'keywords', 'id', 'eventId', 'city', 'title', 'url', 'country',\n",
       "       'region', 'author', 'referrerSearchEngine', 'deviceType', 'time', 'os',\n",
       "       'activeTime', 'sessionNo', 'activeTotalTime', 'articleId'],\n",
       "      dtype='object')"
      ]
     },
     "execution_count": 4,
     "metadata": {
      "tags": []
     },
     "output_type": "execute_result"
    }
   ],
   "source": [
    "df=df1.drop(\"Unnamed: 0\",1)\n",
    "df.columns"
   ]
  },
  {
   "cell_type": "code",
   "execution_count": 5,
   "metadata": {
    "colab": {
     "base_uri": "https://localhost:8080/",
     "height": 68
    },
    "colab_type": "code",
    "executionInfo": {
     "elapsed": 13387,
     "status": "ok",
     "timestamp": 1576283173949,
     "user": {
      "displayName": "Haoxue Li",
      "photoUrl": "",
      "userId": "02132541566044588005"
     },
     "user_tz": 300
    },
    "id": "kls7Obo97kyJ",
    "outputId": "3283cf2e-71de-4e1e-e41f-61327cf84c07"
   },
   "outputs": [
    {
     "name": "stdout",
     "output_type": "stream",
     "text": [
      "374487\n",
      "2039\n",
      "497\n"
     ]
    }
   ],
   "source": [
    "print(len(df))\n",
    "print(len(df[\"city\"].unique()))\n",
    "print(len(df[\"region\"].unique()))"
   ]
  },
  {
   "cell_type": "markdown",
   "metadata": {
    "colab_type": "text",
    "id": "DcZcMltY1HQo"
   },
   "source": [
    "# Choose Variables"
   ]
  },
  {
   "cell_type": "code",
   "execution_count": 6,
   "metadata": {
    "colab": {
     "base_uri": "https://localhost:8080/",
     "height": 139
    },
    "colab_type": "code",
    "executionInfo": {
     "elapsed": 515,
     "status": "ok",
     "timestamp": 1576283177168,
     "user": {
      "displayName": "Haoxue Li",
      "photoUrl": "",
      "userId": "02132541566044588005"
     },
     "user_tz": 300
    },
    "id": "L13mwxrJ1HQp",
    "outputId": "34cd74ab-95f2-4f1e-c3ba-d75551878542"
   },
   "outputs": [
    {
     "data": {
      "text/plain": [
       "Index(['profile', 'category1', 'canonicalUrl', 'referrerHostClass',\n",
       "       'sessionStop', 'userId', 'publishtime', 'sessionStart', 'referrerUrl',\n",
       "       'keywords', 'id', 'eventId', 'city', 'title', 'url', 'country',\n",
       "       'region', 'author', 'referrerSearchEngine', 'deviceType', 'time', 'os',\n",
       "       'activeTime', 'sessionNo', 'activeTotalTime', 'articleId'],\n",
       "      dtype='object')"
      ]
     },
     "execution_count": 6,
     "metadata": {
      "tags": []
     },
     "output_type": "execute_result"
    }
   ],
   "source": [
    "articles=df[\"id\"].unique()\n",
    "d={}\n",
    "for i in range(len(articles)):\n",
    "    article=articles[i]\n",
    "    d[article]=i\n",
    "df[\"articleId\"]=df[\"id\"].map(d)\n",
    "df.columns"
   ]
  },
  {
   "cell_type": "code",
   "execution_count": 7,
   "metadata": {
    "colab": {
     "base_uri": "https://localhost:8080/",
     "height": 221
    },
    "colab_type": "code",
    "executionInfo": {
     "elapsed": 560,
     "status": "ok",
     "timestamp": 1576283178018,
     "user": {
      "displayName": "Haoxue Li",
      "photoUrl": "",
      "userId": "02132541566044588005"
     },
     "user_tz": 300
    },
    "id": "Uwg9RFxk1HQt",
    "outputId": "51e0a3ca-521b-4f58-d10d-ed042f7bf2e7"
   },
   "outputs": [
    {
     "name": "stdout",
     "output_type": "stream",
     "text": [
      "The length of data with article as itemid:  374487\n"
     ]
    },
    {
     "data": {
      "text/html": [
       "<div>\n",
       "<style scoped>\n",
       "    .dataframe tbody tr th:only-of-type {\n",
       "        vertical-align: middle;\n",
       "    }\n",
       "\n",
       "    .dataframe tbody tr th {\n",
       "        vertical-align: top;\n",
       "    }\n",
       "\n",
       "    .dataframe thead th {\n",
       "        text-align: right;\n",
       "    }\n",
       "</style>\n",
       "<table border=\"1\" class=\"dataframe\">\n",
       "  <thead>\n",
       "    <tr style=\"text-align: right;\">\n",
       "      <th></th>\n",
       "      <th>session_key</th>\n",
       "      <th>item_key</th>\n",
       "      <th>time_key</th>\n",
       "      <th>city</th>\n",
       "      <th>region</th>\n",
       "      <th>deviceType</th>\n",
       "    </tr>\n",
       "  </thead>\n",
       "  <tbody>\n",
       "    <tr>\n",
       "      <th>0</th>\n",
       "      <td>2</td>\n",
       "      <td>0</td>\n",
       "      <td>1483305738</td>\n",
       "      <td>oslo</td>\n",
       "      <td>oslo</td>\n",
       "      <td>Desktop</td>\n",
       "    </tr>\n",
       "    <tr>\n",
       "      <th>1</th>\n",
       "      <td>2</td>\n",
       "      <td>1</td>\n",
       "      <td>1483305786</td>\n",
       "      <td>oslo</td>\n",
       "      <td>oslo</td>\n",
       "      <td>Desktop</td>\n",
       "    </tr>\n",
       "    <tr>\n",
       "      <th>2</th>\n",
       "      <td>2</td>\n",
       "      <td>2</td>\n",
       "      <td>1483305801</td>\n",
       "      <td>oslo</td>\n",
       "      <td>oslo</td>\n",
       "      <td>Desktop</td>\n",
       "    </tr>\n",
       "    <tr>\n",
       "      <th>3</th>\n",
       "      <td>4</td>\n",
       "      <td>3</td>\n",
       "      <td>1483260265</td>\n",
       "      <td>brumunddal</td>\n",
       "      <td>hedmark</td>\n",
       "      <td>Desktop</td>\n",
       "    </tr>\n",
       "    <tr>\n",
       "      <th>4</th>\n",
       "      <td>5</td>\n",
       "      <td>4</td>\n",
       "      <td>1483271454</td>\n",
       "      <td>brumunddal</td>\n",
       "      <td>hedmark</td>\n",
       "      <td>Desktop</td>\n",
       "    </tr>\n",
       "  </tbody>\n",
       "</table>\n",
       "</div>"
      ],
      "text/plain": [
       "   session_key  item_key    time_key        city   region deviceType\n",
       "0            2         0  1483305738        oslo     oslo    Desktop\n",
       "1            2         1  1483305786        oslo     oslo    Desktop\n",
       "2            2         2  1483305801        oslo     oslo    Desktop\n",
       "3            4         3  1483260265  brumunddal  hedmark    Desktop\n",
       "4            5         4  1483271454  brumunddal  hedmark    Desktop"
      ]
     },
     "execution_count": 7,
     "metadata": {
      "tags": []
     },
     "output_type": "execute_result"
    }
   ],
   "source": [
    "#data=df[[\"sessionNo\",\"category_num\",\"time\"]].rename(columns={\"sessionNo\":\"session_key\",\"category_num\": \"item_key\", \"time\":\"time_key\"})\n",
    "data_1=df[[\"sessionNo\",\"articleId\",\"time\",\"city\",\"region\",\"deviceType\"]].rename(columns={\"sessionNo\":\"session_key\",\"articleId\": \"item_key\", \"time\":\"time_key\"})\n",
    "print(\"The length of data with article as itemid: \",len(data_1))\n",
    "data_1.head()"
   ]
  },
  {
   "cell_type": "code",
   "execution_count": null,
   "metadata": {
    "colab": {},
    "colab_type": "code",
    "id": "P7YRQQJUp_u6"
   },
   "outputs": [],
   "source": [
    "categories=df[\"category1\"].unique()\n",
    "d={}\n",
    "for i in range(len(categories)):\n",
    "    category=categories[i]\n",
    "    d[category]=i\n",
    "df[\"categoryId\"]=df[\"category1\"].map(d)"
   ]
  },
  {
   "cell_type": "code",
   "execution_count": 9,
   "metadata": {
    "colab": {
     "base_uri": "https://localhost:8080/",
     "height": 221
    },
    "colab_type": "code",
    "executionInfo": {
     "elapsed": 849,
     "status": "ok",
     "timestamp": 1576283180159,
     "user": {
      "displayName": "Haoxue Li",
      "photoUrl": "",
      "userId": "02132541566044588005"
     },
     "user_tz": 300
    },
    "id": "TBFIBMpaqJoQ",
    "outputId": "6ffb2b7e-9c4f-460e-a0b8-a6ccefb63874"
   },
   "outputs": [
    {
     "name": "stdout",
     "output_type": "stream",
     "text": [
      "The length of data with category as itemid:  374487\n"
     ]
    },
    {
     "data": {
      "text/html": [
       "<div>\n",
       "<style scoped>\n",
       "    .dataframe tbody tr th:only-of-type {\n",
       "        vertical-align: middle;\n",
       "    }\n",
       "\n",
       "    .dataframe tbody tr th {\n",
       "        vertical-align: top;\n",
       "    }\n",
       "\n",
       "    .dataframe thead th {\n",
       "        text-align: right;\n",
       "    }\n",
       "</style>\n",
       "<table border=\"1\" class=\"dataframe\">\n",
       "  <thead>\n",
       "    <tr style=\"text-align: right;\">\n",
       "      <th></th>\n",
       "      <th>session_key</th>\n",
       "      <th>item_key</th>\n",
       "      <th>time_key</th>\n",
       "      <th>city</th>\n",
       "      <th>region</th>\n",
       "      <th>deviceType</th>\n",
       "    </tr>\n",
       "  </thead>\n",
       "  <tbody>\n",
       "    <tr>\n",
       "      <th>0</th>\n",
       "      <td>2</td>\n",
       "      <td>0</td>\n",
       "      <td>1483305738</td>\n",
       "      <td>oslo</td>\n",
       "      <td>oslo</td>\n",
       "      <td>Desktop</td>\n",
       "    </tr>\n",
       "    <tr>\n",
       "      <th>1</th>\n",
       "      <td>2</td>\n",
       "      <td>1</td>\n",
       "      <td>1483305786</td>\n",
       "      <td>oslo</td>\n",
       "      <td>oslo</td>\n",
       "      <td>Desktop</td>\n",
       "    </tr>\n",
       "    <tr>\n",
       "      <th>2</th>\n",
       "      <td>2</td>\n",
       "      <td>1</td>\n",
       "      <td>1483305801</td>\n",
       "      <td>oslo</td>\n",
       "      <td>oslo</td>\n",
       "      <td>Desktop</td>\n",
       "    </tr>\n",
       "    <tr>\n",
       "      <th>3</th>\n",
       "      <td>4</td>\n",
       "      <td>0</td>\n",
       "      <td>1483260265</td>\n",
       "      <td>brumunddal</td>\n",
       "      <td>hedmark</td>\n",
       "      <td>Desktop</td>\n",
       "    </tr>\n",
       "    <tr>\n",
       "      <th>4</th>\n",
       "      <td>5</td>\n",
       "      <td>2</td>\n",
       "      <td>1483271454</td>\n",
       "      <td>brumunddal</td>\n",
       "      <td>hedmark</td>\n",
       "      <td>Desktop</td>\n",
       "    </tr>\n",
       "  </tbody>\n",
       "</table>\n",
       "</div>"
      ],
      "text/plain": [
       "   session_key  item_key    time_key        city   region deviceType\n",
       "0            2         0  1483305738        oslo     oslo    Desktop\n",
       "1            2         1  1483305786        oslo     oslo    Desktop\n",
       "2            2         1  1483305801        oslo     oslo    Desktop\n",
       "3            4         0  1483260265  brumunddal  hedmark    Desktop\n",
       "4            5         2  1483271454  brumunddal  hedmark    Desktop"
      ]
     },
     "execution_count": 9,
     "metadata": {
      "tags": []
     },
     "output_type": "execute_result"
    }
   ],
   "source": [
    "#data=df[[\"sessionNo\",\"category_num\",\"time\"]].rename(columns={\"sessionNo\":\"session_key\",\"category_num\": \"item_key\", \"time\":\"time_key\"})\n",
    "data_2=df[[\"sessionNo\",\"categoryId\",\"time\",\"city\",\"region\",\"deviceType\"]].rename(columns={\"sessionNo\":\"session_key\",\"categoryId\": \"item_key\", \"time\":\"time_key\"})\n",
    "print(\"The length of data with category as itemid: \",len(data_2))\n",
    "data_2.head()"
   ]
  },
  {
   "cell_type": "markdown",
   "metadata": {
    "colab_type": "text",
    "id": "OM1dBZqf1HQx"
   },
   "source": [
    "## DeviceType"
   ]
  },
  {
   "cell_type": "code",
   "execution_count": 10,
   "metadata": {
    "colab": {
     "base_uri": "https://localhost:8080/",
     "height": 265
    },
    "colab_type": "code",
    "executionInfo": {
     "elapsed": 644,
     "status": "ok",
     "timestamp": 1576283180783,
     "user": {
      "displayName": "Haoxue Li",
      "photoUrl": "",
      "userId": "02132541566044588005"
     },
     "user_tz": 300
    },
    "id": "Swi7z9gC1HQx",
    "outputId": "d3099b14-5097-42ae-a7fd-aa98283fe7e8"
   },
   "outputs": [
    {
     "data": {
      "image/png": "[encoded data removed]",
      "text/plain": [
       "<Figure size 432x288 with 1 Axes>"
      ]
     },
     "metadata": {
      "tags": []
     },
     "output_type": "display_data"
    }
   ],
   "source": [
    "import matplotlib.pyplot as plt\n",
    "%matplotlib inline\n",
    "plt.style.use(\"ggplot\")\n",
    "fig=plt.hist(data_1[\"deviceType\"])"
   ]
  },
  {
   "cell_type": "code",
   "execution_count": 11,
   "metadata": {
    "colab": {
     "base_uri": "https://localhost:8080/",
     "height": 224
    },
    "colab_type": "code",
    "executionInfo": {
     "elapsed": 3509,
     "status": "ok",
     "timestamp": 1576283184119,
     "user": {
      "displayName": "Haoxue Li",
      "photoUrl": "",
      "userId": "02132541566044588005"
     },
     "user_tz": 300
    },
    "id": "j6bi8nS81HQ1",
    "outputId": "1e6dc7b5-1621-43ae-d7af-d2afa56cde81"
   },
   "outputs": [
    {
     "data": {
      "text/html": [
       "<div>\n",
       "<style scoped>\n",
       "    .dataframe tbody tr th:only-of-type {\n",
       "        vertical-align: middle;\n",
       "    }\n",
       "\n",
       "    .dataframe tbody tr th {\n",
       "        vertical-align: top;\n",
       "    }\n",
       "\n",
       "    .dataframe thead th {\n",
       "        text-align: right;\n",
       "    }\n",
       "</style>\n",
       "<table border=\"1\" class=\"dataframe\">\n",
       "  <thead>\n",
       "    <tr style=\"text-align: right;\">\n",
       "      <th></th>\n",
       "      <th>session_key</th>\n",
       "      <th>item_key</th>\n",
       "      <th>time_key</th>\n",
       "      <th>city</th>\n",
       "      <th>region</th>\n",
       "      <th>deviceType</th>\n",
       "      <th>Desktop</th>\n",
       "      <th>Mobile</th>\n",
       "      <th>Tablet</th>\n",
       "    </tr>\n",
       "  </thead>\n",
       "  <tbody>\n",
       "    <tr>\n",
       "      <th>0</th>\n",
       "      <td>2</td>\n",
       "      <td>0</td>\n",
       "      <td>1483305738</td>\n",
       "      <td>oslo</td>\n",
       "      <td>oslo</td>\n",
       "      <td>Desktop</td>\n",
       "      <td>1</td>\n",
       "      <td>0</td>\n",
       "      <td>0</td>\n",
       "    </tr>\n",
       "    <tr>\n",
       "      <th>1</th>\n",
       "      <td>2</td>\n",
       "      <td>1</td>\n",
       "      <td>1483305786</td>\n",
       "      <td>oslo</td>\n",
       "      <td>oslo</td>\n",
       "      <td>Desktop</td>\n",
       "      <td>1</td>\n",
       "      <td>0</td>\n",
       "      <td>0</td>\n",
       "    </tr>\n",
       "    <tr>\n",
       "      <th>2</th>\n",
       "      <td>2</td>\n",
       "      <td>2</td>\n",
       "      <td>1483305801</td>\n",
       "      <td>oslo</td>\n",
       "      <td>oslo</td>\n",
       "      <td>Desktop</td>\n",
       "      <td>1</td>\n",
       "      <td>0</td>\n",
       "      <td>0</td>\n",
       "    </tr>\n",
       "    <tr>\n",
       "      <th>3</th>\n",
       "      <td>4</td>\n",
       "      <td>3</td>\n",
       "      <td>1483260265</td>\n",
       "      <td>brumunddal</td>\n",
       "      <td>hedmark</td>\n",
       "      <td>Desktop</td>\n",
       "      <td>1</td>\n",
       "      <td>0</td>\n",
       "      <td>0</td>\n",
       "    </tr>\n",
       "    <tr>\n",
       "      <th>4</th>\n",
       "      <td>5</td>\n",
       "      <td>4</td>\n",
       "      <td>1483271454</td>\n",
       "      <td>brumunddal</td>\n",
       "      <td>hedmark</td>\n",
       "      <td>Desktop</td>\n",
       "      <td>1</td>\n",
       "      <td>0</td>\n",
       "      <td>0</td>\n",
       "    </tr>\n",
       "  </tbody>\n",
       "</table>\n",
       "</div>"
      ],
      "text/plain": [
       "   session_key  item_key    time_key  ... Desktop Mobile Tablet\n",
       "0            2         0  1483305738  ...       1      0      0\n",
       "1            2         1  1483305786  ...       1      0      0\n",
       "2            2         2  1483305801  ...       1      0      0\n",
       "3            4         3  1483260265  ...       1      0      0\n",
       "4            5         4  1483271454  ...       1      0      0\n",
       "\n",
       "[5 rows x 9 columns]"
      ]
     },
     "execution_count": 11,
     "metadata": {
      "tags": []
     },
     "output_type": "execute_result"
    }
   ],
   "source": [
    "t=pd.get_dummies(data_1[\"deviceType\"])\n",
    "device_data=data_1.join(t)\n",
    "device_data.to_csv(path+\"day_one_article_only_device.csv\")\n",
    "device_data.head()"
   ]
  },
  {
   "cell_type": "code",
   "execution_count": 12,
   "metadata": {
    "colab": {
     "base_uri": "https://localhost:8080/",
     "height": 224
    },
    "colab_type": "code",
    "executionInfo": {
     "elapsed": 5471,
     "status": "ok",
     "timestamp": 1576283186999,
     "user": {
      "displayName": "Haoxue Li",
      "photoUrl": "",
      "userId": "02132541566044588005"
     },
     "user_tz": 300
    },
    "id": "Pz6n943E1HQ8",
    "outputId": "f60afde4-b69f-4de9-f277-04dfe06897af"
   },
   "outputs": [
    {
     "data": {
      "text/html": [
       "<div>\n",
       "<style scoped>\n",
       "    .dataframe tbody tr th:only-of-type {\n",
       "        vertical-align: middle;\n",
       "    }\n",
       "\n",
       "    .dataframe tbody tr th {\n",
       "        vertical-align: top;\n",
       "    }\n",
       "\n",
       "    .dataframe thead th {\n",
       "        text-align: right;\n",
       "    }\n",
       "</style>\n",
       "<table border=\"1\" class=\"dataframe\">\n",
       "  <thead>\n",
       "    <tr style=\"text-align: right;\">\n",
       "      <th></th>\n",
       "      <th>session_key</th>\n",
       "      <th>item_key</th>\n",
       "      <th>time_key</th>\n",
       "      <th>city</th>\n",
       "      <th>region</th>\n",
       "      <th>deviceType</th>\n",
       "      <th>Desktop</th>\n",
       "      <th>Mobile</th>\n",
       "      <th>Tablet</th>\n",
       "    </tr>\n",
       "  </thead>\n",
       "  <tbody>\n",
       "    <tr>\n",
       "      <th>0</th>\n",
       "      <td>2</td>\n",
       "      <td>0</td>\n",
       "      <td>1483305738</td>\n",
       "      <td>oslo</td>\n",
       "      <td>oslo</td>\n",
       "      <td>Desktop</td>\n",
       "      <td>1</td>\n",
       "      <td>0</td>\n",
       "      <td>0</td>\n",
       "    </tr>\n",
       "    <tr>\n",
       "      <th>1</th>\n",
       "      <td>2</td>\n",
       "      <td>1</td>\n",
       "      <td>1483305786</td>\n",
       "      <td>oslo</td>\n",
       "      <td>oslo</td>\n",
       "      <td>Desktop</td>\n",
       "      <td>1</td>\n",
       "      <td>0</td>\n",
       "      <td>0</td>\n",
       "    </tr>\n",
       "    <tr>\n",
       "      <th>2</th>\n",
       "      <td>2</td>\n",
       "      <td>1</td>\n",
       "      <td>1483305801</td>\n",
       "      <td>oslo</td>\n",
       "      <td>oslo</td>\n",
       "      <td>Desktop</td>\n",
       "      <td>1</td>\n",
       "      <td>0</td>\n",
       "      <td>0</td>\n",
       "    </tr>\n",
       "    <tr>\n",
       "      <th>3</th>\n",
       "      <td>4</td>\n",
       "      <td>0</td>\n",
       "      <td>1483260265</td>\n",
       "      <td>brumunddal</td>\n",
       "      <td>hedmark</td>\n",
       "      <td>Desktop</td>\n",
       "      <td>1</td>\n",
       "      <td>0</td>\n",
       "      <td>0</td>\n",
       "    </tr>\n",
       "    <tr>\n",
       "      <th>4</th>\n",
       "      <td>5</td>\n",
       "      <td>2</td>\n",
       "      <td>1483271454</td>\n",
       "      <td>brumunddal</td>\n",
       "      <td>hedmark</td>\n",
       "      <td>Desktop</td>\n",
       "      <td>1</td>\n",
       "      <td>0</td>\n",
       "      <td>0</td>\n",
       "    </tr>\n",
       "  </tbody>\n",
       "</table>\n",
       "</div>"
      ],
      "text/plain": [
       "   session_key  item_key    time_key  ... Desktop Mobile Tablet\n",
       "0            2         0  1483305738  ...       1      0      0\n",
       "1            2         1  1483305786  ...       1      0      0\n",
       "2            2         1  1483305801  ...       1      0      0\n",
       "3            4         0  1483260265  ...       1      0      0\n",
       "4            5         2  1483271454  ...       1      0      0\n",
       "\n",
       "[5 rows x 9 columns]"
      ]
     },
     "execution_count": 12,
     "metadata": {
      "tags": []
     },
     "output_type": "execute_result"
    }
   ],
   "source": [
    "t=pd.get_dummies(data_2[\"deviceType\"])\n",
    "device_data=data_2.join(t)\n",
    "device_data.to_csv(path+\"day_one_category_only_device.csv\")\n",
    "device_data.head()"
   ]
  },
  {
   "cell_type": "markdown",
   "metadata": {
    "colab_type": "text",
    "id": "202HqoPn1HRC"
   },
   "source": [
    "## Regions"
   ]
  },
  {
   "cell_type": "code",
   "execution_count": 13,
   "metadata": {
    "colab": {
     "base_uri": "https://localhost:8080/",
     "height": 170
    },
    "colab_type": "code",
    "executionInfo": {
     "elapsed": 4605,
     "status": "ok",
     "timestamp": 1576283187000,
     "user": {
      "displayName": "Haoxue Li",
      "photoUrl": "",
      "userId": "02132541566044588005"
     },
     "user_tz": 300
    },
    "id": "529fNh3_A9Xy",
    "outputId": "3b726708-8ad8-4e51-9687-1eeaa7297591"
   },
   "outputs": [
    {
     "data": {
      "text/plain": [
       "count       496.000000\n",
       "mean        754.616935\n",
       "std       10639.337693\n",
       "min           1.000000\n",
       "25%           2.000000\n",
       "50%           4.000000\n",
       "75%          13.000000\n",
       "max      227906.000000\n",
       "Name: session_key, dtype: float64"
      ]
     },
     "execution_count": 13,
     "metadata": {
      "tags": []
     },
     "output_type": "execute_result"
    }
   ],
   "source": [
    "k=data_1.groupby(\"region\")[\"session_key\"].count()\n",
    "k.describe()"
   ]
  },
  {
   "cell_type": "code",
   "execution_count": 14,
   "metadata": {
    "colab": {
     "base_uri": "https://localhost:8080/",
     "height": 51
    },
    "colab_type": "code",
    "collapsed": true,
    "executionInfo": {
     "elapsed": 564562,
     "status": "ok",
     "timestamp": 1576283747376,
     "user": {
      "displayName": "Haoxue Li",
      "photoUrl": "",
      "userId": "02132541566044588005"
     },
     "user_tz": 300
    },
    "id": "FiSqhUOQ1HRD",
    "jupyter": {
     "outputs_hidden": true
    },
    "outputId": "16f7e1b8-2db0-4419-aab2-65b53854dd98"
   },
   "outputs": [
    {
     "name": "stderr",
     "output_type": "stream",
     "text": [
      " 82%|████████▏ | 406/497 [07:39<01:45,  1.16s/it]"
     ]
    },
    {
     "name": "stdout",
     "output_type": "stream",
     "text": [
      "111\n"
     ]
    },
    {
     "name": "stderr",
     "output_type": "stream",
     "text": [
      "100%|██████████| 497/497 [09:19<00:00,  1.08s/it]\n"
     ]
    }
   ],
   "source": [
    "from geopy.geocoders import Nominatim\n",
    "from tqdm import tqdm\n",
    "geolocator = Nominatim(user_agent=\"specify_your_app_name_here\")\n",
    "d={}\n",
    "k=data_1[\"region\"].unique()\n",
    "for i in tqdm(range(len(k))):\n",
    "    try:\n",
    "      location = geolocator.geocode(i)\n",
    "      if not location:\n",
    "          d[k[i]]=(0,0)\n",
    "      else:\n",
    "          d[k[i]]=(location.latitude, location.longitude)\n",
    "    except:\n",
    "      print(111)\n",
    "      d[k[i]]=(0,0)"
   ]
  },
  {
   "cell_type": "code",
   "execution_count": null,
   "metadata": {
    "colab": {},
    "colab_type": "code",
    "id": "GA-WXI2Gsftu"
   },
   "outputs": [],
   "source": [
    "l=[[],[]]\n",
    "for v,k in zip(d.values(),d.keys()):\n",
    "  if d[k]!=(0,0):\n",
    "    l[0].append(d[k][0])\n",
    "    l[1].append(d[k][1])\n",
    "mean=(sum(l[0])/len(l[0]),sum(l[1])/len(l[1]))\n",
    "for v,k in zip(d.values(),d.keys()):\n",
    "  if d[k]==(0,0):\n",
    "    d[k]=mean"
   ]
  },
  {
   "cell_type": "code",
   "execution_count": 16,
   "metadata": {
    "colab": {
     "base_uri": "https://localhost:8080/",
     "height": 224
    },
    "colab_type": "code",
    "collapsed": true,
    "executionInfo": {
     "elapsed": 566676,
     "status": "ok",
     "timestamp": 1576283750505,
     "user": {
      "displayName": "Haoxue Li",
      "photoUrl": "",
      "userId": "02132541566044588005"
     },
     "user_tz": 300
    },
    "id": "AX5wcm6X1HRG",
    "jupyter": {
     "outputs_hidden": true
    },
    "outputId": "7dfc31ee-bb63-4ce9-cc3f-4957eb88954b"
   },
   "outputs": [
    {
     "data": {
      "text/html": [
       "<div>\n",
       "<style scoped>\n",
       "    .dataframe tbody tr th:only-of-type {\n",
       "        vertical-align: middle;\n",
       "    }\n",
       "\n",
       "    .dataframe tbody tr th {\n",
       "        vertical-align: top;\n",
       "    }\n",
       "\n",
       "    .dataframe thead th {\n",
       "        text-align: right;\n",
       "    }\n",
       "</style>\n",
       "<table border=\"1\" class=\"dataframe\">\n",
       "  <thead>\n",
       "    <tr style=\"text-align: right;\">\n",
       "      <th></th>\n",
       "      <th>session_key</th>\n",
       "      <th>item_key</th>\n",
       "      <th>time_key</th>\n",
       "      <th>city</th>\n",
       "      <th>region</th>\n",
       "      <th>deviceType</th>\n",
       "      <th>lat</th>\n",
       "      <th>long</th>\n",
       "    </tr>\n",
       "  </thead>\n",
       "  <tbody>\n",
       "    <tr>\n",
       "      <th>0</th>\n",
       "      <td>2</td>\n",
       "      <td>0</td>\n",
       "      <td>1483305738</td>\n",
       "      <td>oslo</td>\n",
       "      <td>oslo</td>\n",
       "      <td>Desktop</td>\n",
       "      <td>47.361750</td>\n",
       "      <td>27.778029</td>\n",
       "    </tr>\n",
       "    <tr>\n",
       "      <th>1</th>\n",
       "      <td>2</td>\n",
       "      <td>1</td>\n",
       "      <td>1483305786</td>\n",
       "      <td>oslo</td>\n",
       "      <td>oslo</td>\n",
       "      <td>Desktop</td>\n",
       "      <td>47.361750</td>\n",
       "      <td>27.778029</td>\n",
       "    </tr>\n",
       "    <tr>\n",
       "      <th>2</th>\n",
       "      <td>2</td>\n",
       "      <td>2</td>\n",
       "      <td>1483305801</td>\n",
       "      <td>oslo</td>\n",
       "      <td>oslo</td>\n",
       "      <td>Desktop</td>\n",
       "      <td>47.361750</td>\n",
       "      <td>27.778029</td>\n",
       "    </tr>\n",
       "    <tr>\n",
       "      <th>3</th>\n",
       "      <td>4</td>\n",
       "      <td>3</td>\n",
       "      <td>1483260265</td>\n",
       "      <td>brumunddal</td>\n",
       "      <td>hedmark</td>\n",
       "      <td>Desktop</td>\n",
       "      <td>22.351115</td>\n",
       "      <td>78.667743</td>\n",
       "    </tr>\n",
       "    <tr>\n",
       "      <th>4</th>\n",
       "      <td>5</td>\n",
       "      <td>4</td>\n",
       "      <td>1483271454</td>\n",
       "      <td>brumunddal</td>\n",
       "      <td>hedmark</td>\n",
       "      <td>Desktop</td>\n",
       "      <td>22.351115</td>\n",
       "      <td>78.667743</td>\n",
       "    </tr>\n",
       "  </tbody>\n",
       "</table>\n",
       "</div>"
      ],
      "text/plain": [
       "   session_key  item_key    time_key  ... deviceType        lat       long\n",
       "0            2         0  1483305738  ...    Desktop  47.361750  27.778029\n",
       "1            2         1  1483305786  ...    Desktop  47.361750  27.778029\n",
       "2            2         2  1483305801  ...    Desktop  47.361750  27.778029\n",
       "3            4         3  1483260265  ...    Desktop  22.351115  78.667743\n",
       "4            5         4  1483271454  ...    Desktop  22.351115  78.667743\n",
       "\n",
       "[5 rows x 8 columns]"
      ]
     },
     "execution_count": 16,
     "metadata": {
      "tags": []
     },
     "output_type": "execute_result"
    }
   ],
   "source": [
    "tmp=data_1[\"region\"].map(d)\n",
    "region_data=data_1\n",
    "region_data[\"lat\"]=tmp.apply(lambda x:x[0])\n",
    "region_data[\"long\"]=tmp.apply(lambda x:x[1])\n",
    "region_data.to_csv(path+\"day_one_article_only_region.csv\")\n",
    "region_data.head()"
   ]
  },
  {
   "cell_type": "code",
   "execution_count": 17,
   "metadata": {
    "colab": {
     "base_uri": "https://localhost:8080/",
     "height": 224
    },
    "colab_type": "code",
    "executionInfo": {
     "elapsed": 569435,
     "status": "ok",
     "timestamp": 1576283753712,
     "user": {
      "displayName": "Haoxue Li",
      "photoUrl": "",
      "userId": "02132541566044588005"
     },
     "user_tz": 300
    },
    "id": "aVvsZpoK1HRU",
    "outputId": "eefa3501-2365-4555-bebb-cc2e948fe97a"
   },
   "outputs": [
    {
     "data": {
      "text/html": [
       "<div>\n",
       "<style scoped>\n",
       "    .dataframe tbody tr th:only-of-type {\n",
       "        vertical-align: middle;\n",
       "    }\n",
       "\n",
       "    .dataframe tbody tr th {\n",
       "        vertical-align: top;\n",
       "    }\n",
       "\n",
       "    .dataframe thead th {\n",
       "        text-align: right;\n",
       "    }\n",
       "</style>\n",
       "<table border=\"1\" class=\"dataframe\">\n",
       "  <thead>\n",
       "    <tr style=\"text-align: right;\">\n",
       "      <th></th>\n",
       "      <th>session_key</th>\n",
       "      <th>item_key</th>\n",
       "      <th>time_key</th>\n",
       "      <th>city</th>\n",
       "      <th>region</th>\n",
       "      <th>deviceType</th>\n",
       "      <th>lat</th>\n",
       "      <th>long</th>\n",
       "    </tr>\n",
       "  </thead>\n",
       "  <tbody>\n",
       "    <tr>\n",
       "      <th>0</th>\n",
       "      <td>2</td>\n",
       "      <td>0</td>\n",
       "      <td>1483305738</td>\n",
       "      <td>oslo</td>\n",
       "      <td>oslo</td>\n",
       "      <td>Desktop</td>\n",
       "      <td>47.361750</td>\n",
       "      <td>27.778029</td>\n",
       "    </tr>\n",
       "    <tr>\n",
       "      <th>1</th>\n",
       "      <td>2</td>\n",
       "      <td>1</td>\n",
       "      <td>1483305786</td>\n",
       "      <td>oslo</td>\n",
       "      <td>oslo</td>\n",
       "      <td>Desktop</td>\n",
       "      <td>47.361750</td>\n",
       "      <td>27.778029</td>\n",
       "    </tr>\n",
       "    <tr>\n",
       "      <th>2</th>\n",
       "      <td>2</td>\n",
       "      <td>1</td>\n",
       "      <td>1483305801</td>\n",
       "      <td>oslo</td>\n",
       "      <td>oslo</td>\n",
       "      <td>Desktop</td>\n",
       "      <td>47.361750</td>\n",
       "      <td>27.778029</td>\n",
       "    </tr>\n",
       "    <tr>\n",
       "      <th>3</th>\n",
       "      <td>4</td>\n",
       "      <td>0</td>\n",
       "      <td>1483260265</td>\n",
       "      <td>brumunddal</td>\n",
       "      <td>hedmark</td>\n",
       "      <td>Desktop</td>\n",
       "      <td>22.351115</td>\n",
       "      <td>78.667743</td>\n",
       "    </tr>\n",
       "    <tr>\n",
       "      <th>4</th>\n",
       "      <td>5</td>\n",
       "      <td>2</td>\n",
       "      <td>1483271454</td>\n",
       "      <td>brumunddal</td>\n",
       "      <td>hedmark</td>\n",
       "      <td>Desktop</td>\n",
       "      <td>22.351115</td>\n",
       "      <td>78.667743</td>\n",
       "    </tr>\n",
       "  </tbody>\n",
       "</table>\n",
       "</div>"
      ],
      "text/plain": [
       "   session_key  item_key    time_key  ... deviceType        lat       long\n",
       "0            2         0  1483305738  ...    Desktop  47.361750  27.778029\n",
       "1            2         1  1483305786  ...    Desktop  47.361750  27.778029\n",
       "2            2         1  1483305801  ...    Desktop  47.361750  27.778029\n",
       "3            4         0  1483260265  ...    Desktop  22.351115  78.667743\n",
       "4            5         2  1483271454  ...    Desktop  22.351115  78.667743\n",
       "\n",
       "[5 rows x 8 columns]"
      ]
     },
     "execution_count": 17,
     "metadata": {
      "tags": []
     },
     "output_type": "execute_result"
    }
   ],
   "source": [
    "tmp=data_2[\"region\"].map(d)\n",
    "region_data=data_2\n",
    "region_data[\"lat\"]=tmp.apply(lambda x:x[0])\n",
    "region_data[\"long\"]=tmp.apply(lambda x:x[1])\n",
    "region_data.to_csv(path+\"day_one_category_only_region.csv\")\n",
    "region_data.head()"
   ]
  },
  {
   "cell_type": "markdown",
   "metadata": {
    "colab_type": "text",
    "id": "QJ43p97k4tXj"
   },
   "source": [
    "## Combine"
   ]
  },
  {
   "cell_type": "code",
   "execution_count": 18,
   "metadata": {
    "colab": {
     "base_uri": "https://localhost:8080/",
     "height": 309
    },
    "colab_type": "code",
    "executionInfo": {
     "elapsed": 569196,
     "status": "ok",
     "timestamp": 1576283754524,
     "user": {
      "displayName": "Haoxue Li",
      "photoUrl": "",
      "userId": "02132541566044588005"
     },
     "user_tz": 300
    },
    "id": "0IiRwHwP4uom",
    "outputId": "201501dc-fdf3-4a94-bc60-a4a33d72bb70"
   },
   "outputs": [
    {
     "data": {
      "text/plain": [
       "(   Unnamed: 0  session_key  item_key  ...  deviceType        lat       long\n",
       " 0           0            2         0  ...     Desktop  47.361750  27.778029\n",
       " 1           1            2         1  ...     Desktop  47.361750  27.778029\n",
       " 2           2            2         2  ...     Desktop  47.361750  27.778029\n",
       " 3           3            4         3  ...     Desktop  22.351115  78.667743\n",
       " 4           4            5         4  ...     Desktop  22.351115  78.667743\n",
       " \n",
       " [5 rows x 9 columns],\n",
       "    Unnamed: 0  session_key  item_key  ...  Desktop Mobile Tablet\n",
       " 0           0            2         0  ...        1      0      0\n",
       " 1           1            2         1  ...        1      0      0\n",
       " 2           2            2         2  ...        1      0      0\n",
       " 3           3            4         3  ...        1      0      0\n",
       " 4           4            5         4  ...        1      0      0\n",
       " \n",
       " [5 rows x 10 columns])"
      ]
     },
     "execution_count": 18,
     "metadata": {
      "tags": []
     },
     "output_type": "execute_result"
    }
   ],
   "source": [
    "region=pd.read_csv(path+\"day_one_article_only_region.csv\")\n",
    "device=pd.read_csv(path+\"day_one_article_only_device.csv\")\n",
    "region.head(),device.head()"
   ]
  },
  {
   "cell_type": "code",
   "execution_count": 19,
   "metadata": {
    "colab": {
     "base_uri": "https://localhost:8080/",
     "height": 241
    },
    "colab_type": "code",
    "executionInfo": {
     "elapsed": 573491,
     "status": "ok",
     "timestamp": 1576283759351,
     "user": {
      "displayName": "Haoxue Li",
      "photoUrl": "",
      "userId": "02132541566044588005"
     },
     "user_tz": 300
    },
    "id": "yB1nKdIg61-k",
    "outputId": "2a51d4a8-79e0-4e45-ed5f-628a078ec816"
   },
   "outputs": [
    {
     "data": {
      "text/html": [
       "<div>\n",
       "<style scoped>\n",
       "    .dataframe tbody tr th:only-of-type {\n",
       "        vertical-align: middle;\n",
       "    }\n",
       "\n",
       "    .dataframe tbody tr th {\n",
       "        vertical-align: top;\n",
       "    }\n",
       "\n",
       "    .dataframe thead th {\n",
       "        text-align: right;\n",
       "    }\n",
       "</style>\n",
       "<table border=\"1\" class=\"dataframe\">\n",
       "  <thead>\n",
       "    <tr style=\"text-align: right;\">\n",
       "      <th></th>\n",
       "      <th>Unnamed: 0</th>\n",
       "      <th>session_key</th>\n",
       "      <th>item_key</th>\n",
       "      <th>time_key</th>\n",
       "      <th>city</th>\n",
       "      <th>region</th>\n",
       "      <th>deviceType</th>\n",
       "      <th>lat</th>\n",
       "      <th>long</th>\n",
       "      <th>Desktop</th>\n",
       "      <th>Mobile</th>\n",
       "      <th>Tablet</th>\n",
       "    </tr>\n",
       "  </thead>\n",
       "  <tbody>\n",
       "    <tr>\n",
       "      <th>0</th>\n",
       "      <td>0</td>\n",
       "      <td>2</td>\n",
       "      <td>0</td>\n",
       "      <td>1483305738</td>\n",
       "      <td>oslo</td>\n",
       "      <td>oslo</td>\n",
       "      <td>Desktop</td>\n",
       "      <td>47.361750</td>\n",
       "      <td>27.778029</td>\n",
       "      <td>1</td>\n",
       "      <td>0</td>\n",
       "      <td>0</td>\n",
       "    </tr>\n",
       "    <tr>\n",
       "      <th>1</th>\n",
       "      <td>1</td>\n",
       "      <td>2</td>\n",
       "      <td>1</td>\n",
       "      <td>1483305786</td>\n",
       "      <td>oslo</td>\n",
       "      <td>oslo</td>\n",
       "      <td>Desktop</td>\n",
       "      <td>47.361750</td>\n",
       "      <td>27.778029</td>\n",
       "      <td>1</td>\n",
       "      <td>0</td>\n",
       "      <td>0</td>\n",
       "    </tr>\n",
       "    <tr>\n",
       "      <th>2</th>\n",
       "      <td>2</td>\n",
       "      <td>2</td>\n",
       "      <td>2</td>\n",
       "      <td>1483305801</td>\n",
       "      <td>oslo</td>\n",
       "      <td>oslo</td>\n",
       "      <td>Desktop</td>\n",
       "      <td>47.361750</td>\n",
       "      <td>27.778029</td>\n",
       "      <td>1</td>\n",
       "      <td>0</td>\n",
       "      <td>0</td>\n",
       "    </tr>\n",
       "    <tr>\n",
       "      <th>3</th>\n",
       "      <td>3</td>\n",
       "      <td>4</td>\n",
       "      <td>3</td>\n",
       "      <td>1483260265</td>\n",
       "      <td>brumunddal</td>\n",
       "      <td>hedmark</td>\n",
       "      <td>Desktop</td>\n",
       "      <td>22.351115</td>\n",
       "      <td>78.667743</td>\n",
       "      <td>1</td>\n",
       "      <td>0</td>\n",
       "      <td>0</td>\n",
       "    </tr>\n",
       "    <tr>\n",
       "      <th>4</th>\n",
       "      <td>4</td>\n",
       "      <td>5</td>\n",
       "      <td>4</td>\n",
       "      <td>1483271454</td>\n",
       "      <td>brumunddal</td>\n",
       "      <td>hedmark</td>\n",
       "      <td>Desktop</td>\n",
       "      <td>22.351115</td>\n",
       "      <td>78.667743</td>\n",
       "      <td>1</td>\n",
       "      <td>0</td>\n",
       "      <td>0</td>\n",
       "    </tr>\n",
       "  </tbody>\n",
       "</table>\n",
       "</div>"
      ],
      "text/plain": [
       "   Unnamed: 0  session_key  item_key  ...  Desktop Mobile Tablet\n",
       "0           0            2         0  ...        1      0      0\n",
       "1           1            2         1  ...        1      0      0\n",
       "2           2            2         2  ...        1      0      0\n",
       "3           3            4         3  ...        1      0      0\n",
       "4           4            5         4  ...        1      0      0\n",
       "\n",
       "[5 rows x 12 columns]"
      ]
     },
     "execution_count": 19,
     "metadata": {
      "tags": []
     },
     "output_type": "execute_result"
    }
   ],
   "source": [
    "device=device[[\"Desktop\",\"Mobile\",\"Tablet\"]]\n",
    "combine=region.join(device)\n",
    "combine.to_csv(path+\"day_one_article_region_device.csv\")\n",
    "combine.head()"
   ]
  },
  {
   "cell_type": "code",
   "execution_count": 20,
   "metadata": {
    "colab": {
     "base_uri": "https://localhost:8080/",
     "height": 309
    },
    "colab_type": "code",
    "executionInfo": {
     "elapsed": 573227,
     "status": "ok",
     "timestamp": 1576283760202,
     "user": {
      "displayName": "Haoxue Li",
      "photoUrl": "",
      "userId": "02132541566044588005"
     },
     "user_tz": 300
    },
    "id": "v1rnAMBY5S_X",
    "outputId": "fe13a70f-d783-447f-95b2-211576adb0f6"
   },
   "outputs": [
    {
     "data": {
      "text/plain": [
       "(   Unnamed: 0  session_key  item_key  ...  deviceType        lat       long\n",
       " 0           0            2         0  ...     Desktop  47.361750  27.778029\n",
       " 1           1            2         1  ...     Desktop  47.361750  27.778029\n",
       " 2           2            2         1  ...     Desktop  47.361750  27.778029\n",
       " 3           3            4         0  ...     Desktop  22.351115  78.667743\n",
       " 4           4            5         2  ...     Desktop  22.351115  78.667743\n",
       " \n",
       " [5 rows x 9 columns],\n",
       "    Unnamed: 0  session_key  item_key  ...  Desktop Mobile Tablet\n",
       " 0           0            2         0  ...        1      0      0\n",
       " 1           1            2         1  ...        1      0      0\n",
       " 2           2            2         1  ...        1      0      0\n",
       " 3           3            4         0  ...        1      0      0\n",
       " 4           4            5         2  ...        1      0      0\n",
       " \n",
       " [5 rows x 10 columns])"
      ]
     },
     "execution_count": 20,
     "metadata": {
      "tags": []
     },
     "output_type": "execute_result"
    }
   ],
   "source": [
    "region=pd.read_csv(path+\"day_one_category_only_region.csv\")\n",
    "device=pd.read_csv(path+\"day_one_category_only_device.csv\")\n",
    "region.head(),device.head()"
   ]
  },
  {
   "cell_type": "code",
   "execution_count": 21,
   "metadata": {
    "colab": {
     "base_uri": "https://localhost:8080/",
     "height": 241
    },
    "colab_type": "code",
    "executionInfo": {
     "elapsed": 577614,
     "status": "ok",
     "timestamp": 1576283765200,
     "user": {
      "displayName": "Haoxue Li",
      "photoUrl": "",
      "userId": "02132541566044588005"
     },
     "user_tz": 300
    },
    "id": "Nyp1SQEz7Q6f",
    "outputId": "65991790-7d7d-487a-9589-3f93f1cc29c4"
   },
   "outputs": [
    {
     "data": {
      "text/html": [
       "<div>\n",
       "<style scoped>\n",
       "    .dataframe tbody tr th:only-of-type {\n",
       "        vertical-align: middle;\n",
       "    }\n",
       "\n",
       "    .dataframe tbody tr th {\n",
       "        vertical-align: top;\n",
       "    }\n",
       "\n",
       "    .dataframe thead th {\n",
       "        text-align: right;\n",
       "    }\n",
       "</style>\n",
       "<table border=\"1\" class=\"dataframe\">\n",
       "  <thead>\n",
       "    <tr style=\"text-align: right;\">\n",
       "      <th></th>\n",
       "      <th>Unnamed: 0</th>\n",
       "      <th>session_key</th>\n",
       "      <th>item_key</th>\n",
       "      <th>time_key</th>\n",
       "      <th>city</th>\n",
       "      <th>region</th>\n",
       "      <th>deviceType</th>\n",
       "      <th>lat</th>\n",
       "      <th>long</th>\n",
       "      <th>Desktop</th>\n",
       "      <th>Mobile</th>\n",
       "      <th>Tablet</th>\n",
       "    </tr>\n",
       "  </thead>\n",
       "  <tbody>\n",
       "    <tr>\n",
       "      <th>0</th>\n",
       "      <td>0</td>\n",
       "      <td>2</td>\n",
       "      <td>0</td>\n",
       "      <td>1483305738</td>\n",
       "      <td>oslo</td>\n",
       "      <td>oslo</td>\n",
       "      <td>Desktop</td>\n",
       "      <td>47.361750</td>\n",
       "      <td>27.778029</td>\n",
       "      <td>1</td>\n",
       "      <td>0</td>\n",
       "      <td>0</td>\n",
       "    </tr>\n",
       "    <tr>\n",
       "      <th>1</th>\n",
       "      <td>1</td>\n",
       "      <td>2</td>\n",
       "      <td>1</td>\n",
       "      <td>1483305786</td>\n",
       "      <td>oslo</td>\n",
       "      <td>oslo</td>\n",
       "      <td>Desktop</td>\n",
       "      <td>47.361750</td>\n",
       "      <td>27.778029</td>\n",
       "      <td>1</td>\n",
       "      <td>0</td>\n",
       "      <td>0</td>\n",
       "    </tr>\n",
       "    <tr>\n",
       "      <th>2</th>\n",
       "      <td>2</td>\n",
       "      <td>2</td>\n",
       "      <td>1</td>\n",
       "      <td>1483305801</td>\n",
       "      <td>oslo</td>\n",
       "      <td>oslo</td>\n",
       "      <td>Desktop</td>\n",
       "      <td>47.361750</td>\n",
       "      <td>27.778029</td>\n",
       "      <td>1</td>\n",
       "      <td>0</td>\n",
       "      <td>0</td>\n",
       "    </tr>\n",
       "    <tr>\n",
       "      <th>3</th>\n",
       "      <td>3</td>\n",
       "      <td>4</td>\n",
       "      <td>0</td>\n",
       "      <td>1483260265</td>\n",
       "      <td>brumunddal</td>\n",
       "      <td>hedmark</td>\n",
       "      <td>Desktop</td>\n",
       "      <td>22.351115</td>\n",
       "      <td>78.667743</td>\n",
       "      <td>1</td>\n",
       "      <td>0</td>\n",
       "      <td>0</td>\n",
       "    </tr>\n",
       "    <tr>\n",
       "      <th>4</th>\n",
       "      <td>4</td>\n",
       "      <td>5</td>\n",
       "      <td>2</td>\n",
       "      <td>1483271454</td>\n",
       "      <td>brumunddal</td>\n",
       "      <td>hedmark</td>\n",
       "      <td>Desktop</td>\n",
       "      <td>22.351115</td>\n",
       "      <td>78.667743</td>\n",
       "      <td>1</td>\n",
       "      <td>0</td>\n",
       "      <td>0</td>\n",
       "    </tr>\n",
       "  </tbody>\n",
       "</table>\n",
       "</div>"
      ],
      "text/plain": [
       "   Unnamed: 0  session_key  item_key  ...  Desktop Mobile Tablet\n",
       "0           0            2         0  ...        1      0      0\n",
       "1           1            2         1  ...        1      0      0\n",
       "2           2            2         1  ...        1      0      0\n",
       "3           3            4         0  ...        1      0      0\n",
       "4           4            5         2  ...        1      0      0\n",
       "\n",
       "[5 rows x 12 columns]"
      ]
     },
     "execution_count": 21,
     "metadata": {
      "tags": []
     },
     "output_type": "execute_result"
    }
   ],
   "source": [
    "device=device[[\"Desktop\",\"Mobile\",\"Tablet\"]]\n",
    "combine=region.join(device)\n",
    "combine.to_csv(path+\"day_one_category_region_device.csv\")\n",
    "combine.head()"
   ]
  },
  {
   "cell_type": "code",
   "execution_count": null,
   "metadata": {
    "colab": {},
    "colab_type": "code",
    "id": "_h3BOHZ99yeE"
   },
   "outputs": [],
   "source": []
  }
 ],
 "metadata": {
  "colab": {
   "collapsed_sections": [],
   "name": "2. Data exploration.ipynb",
   "provenance": []
  },
  "kernelspec": {
   "display_name": "Python 3",
   "language": "python",
   "name": "python3"
  },
  "language_info": {
   "codemirror_mode": {
    "name": "ipython",
    "version": 3
   },
   "file_extension": ".py",
   "mimetype": "text/x-python",
   "name": "python",
   "nbconvert_exporter": "python",
   "pygments_lexer": "ipython3",
   "version": "3.7.4"
  }
 },
 "nbformat": 4,
 "nbformat_minor": 4
}
