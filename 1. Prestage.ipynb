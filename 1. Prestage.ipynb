{
 "cells": [
  {
   "cell_type": "markdown",
   "metadata": {
    "colab_type": "text",
    "id": "KsZ6f1qvW7oH"
   },
   "source": [
    "# Import data"
   ]
  },
  {
   "cell_type": "code",
   "execution_count": 1,
   "metadata": {
    "colab": {},
    "colab_type": "code",
    "id": "ehverdISW7oI"
   },
   "outputs": [],
   "source": [
    "import pandas as pd\n",
    "import numpy as np\n",
    "from pprint import pprint\n",
    "import os\n",
    "from tqdm import tqdm"
   ]
  },
  {
   "cell_type": "code",
   "execution_count": 2,
   "metadata": {
    "colab": {},
    "colab_type": "code",
    "collapsed": true,
    "id": "gNIl-eJWW7oK",
    "jupyter": {
     "outputs_hidden": true
    }
   },
   "outputs": [
    {
     "ename": "FileNotFoundError",
     "evalue": "[Errno 2] File b'drive/My Drive/1001_project_Total/Data/20170101.csv' does not exist: b'drive/My Drive/1001_project_Total/Data/20170101.csv'",
     "output_type": "error",
     "traceback": [
      "\u001b[0;31m---------------------------------------------------------------------------\u001b[0m",
      "\u001b[0;31mFileNotFoundError\u001b[0m                         Traceback (most recent call last)",
      "\u001b[0;32m<ipython-input-2-c6a3bc399452>\u001b[0m in \u001b[0;36m<module>\u001b[0;34m\u001b[0m\n\u001b[1;32m      1\u001b[0m \u001b[0mpath\u001b[0m\u001b[0;34m=\u001b[0m\u001b[0;34m\"drive/My Drive/1001_project_Total/Data/\"\u001b[0m\u001b[0;34m\u001b[0m\u001b[0;34m\u001b[0m\u001b[0m\n\u001b[0;32m----> 2\u001b[0;31m \u001b[0mdf\u001b[0m\u001b[0;34m=\u001b[0m\u001b[0mpd\u001b[0m\u001b[0;34m.\u001b[0m\u001b[0mread_csv\u001b[0m\u001b[0;34m(\u001b[0m\u001b[0mpath\u001b[0m\u001b[0;34m+\u001b[0m\u001b[0;34m\"20170101.csv\"\u001b[0m\u001b[0;34m)\u001b[0m\u001b[0;34m\u001b[0m\u001b[0;34m\u001b[0m\u001b[0m\n\u001b[0m\u001b[1;32m      3\u001b[0m \u001b[0mdf\u001b[0m\u001b[0;34m=\u001b[0m\u001b[0mdf\u001b[0m\u001b[0;34m.\u001b[0m\u001b[0mdrop\u001b[0m\u001b[0;34m(\u001b[0m\u001b[0;34m'Unnamed: 0'\u001b[0m\u001b[0;34m,\u001b[0m\u001b[0;36m1\u001b[0m\u001b[0;34m)\u001b[0m\u001b[0;34m\u001b[0m\u001b[0;34m\u001b[0m\u001b[0m\n",
      "\u001b[0;32m~/opt/anaconda3/lib/python3.7/site-packages/pandas/io/parsers.py\u001b[0m in \u001b[0;36mparser_f\u001b[0;34m(filepath_or_buffer, sep, delimiter, header, names, index_col, usecols, squeeze, prefix, mangle_dupe_cols, dtype, engine, converters, true_values, false_values, skipinitialspace, skiprows, skipfooter, nrows, na_values, keep_default_na, na_filter, verbose, skip_blank_lines, parse_dates, infer_datetime_format, keep_date_col, date_parser, dayfirst, cache_dates, iterator, chunksize, compression, thousands, decimal, lineterminator, quotechar, quoting, doublequote, escapechar, comment, encoding, dialect, error_bad_lines, warn_bad_lines, delim_whitespace, low_memory, memory_map, float_precision)\u001b[0m\n\u001b[1;32m    683\u001b[0m         )\n\u001b[1;32m    684\u001b[0m \u001b[0;34m\u001b[0m\u001b[0m\n\u001b[0;32m--> 685\u001b[0;31m         \u001b[0;32mreturn\u001b[0m \u001b[0m_read\u001b[0m\u001b[0;34m(\u001b[0m\u001b[0mfilepath_or_buffer\u001b[0m\u001b[0;34m,\u001b[0m \u001b[0mkwds\u001b[0m\u001b[0;34m)\u001b[0m\u001b[0;34m\u001b[0m\u001b[0;34m\u001b[0m\u001b[0m\n\u001b[0m\u001b[1;32m    686\u001b[0m \u001b[0;34m\u001b[0m\u001b[0m\n\u001b[1;32m    687\u001b[0m     \u001b[0mparser_f\u001b[0m\u001b[0;34m.\u001b[0m\u001b[0m__name__\u001b[0m \u001b[0;34m=\u001b[0m \u001b[0mname\u001b[0m\u001b[0;34m\u001b[0m\u001b[0;34m\u001b[0m\u001b[0m\n",
      "\u001b[0;32m~/opt/anaconda3/lib/python3.7/site-packages/pandas/io/parsers.py\u001b[0m in \u001b[0;36m_read\u001b[0;34m(filepath_or_buffer, kwds)\u001b[0m\n\u001b[1;32m    455\u001b[0m \u001b[0;34m\u001b[0m\u001b[0m\n\u001b[1;32m    456\u001b[0m     \u001b[0;31m# Create the parser.\u001b[0m\u001b[0;34m\u001b[0m\u001b[0;34m\u001b[0m\u001b[0;34m\u001b[0m\u001b[0m\n\u001b[0;32m--> 457\u001b[0;31m     \u001b[0mparser\u001b[0m \u001b[0;34m=\u001b[0m \u001b[0mTextFileReader\u001b[0m\u001b[0;34m(\u001b[0m\u001b[0mfp_or_buf\u001b[0m\u001b[0;34m,\u001b[0m \u001b[0;34m**\u001b[0m\u001b[0mkwds\u001b[0m\u001b[0;34m)\u001b[0m\u001b[0;34m\u001b[0m\u001b[0;34m\u001b[0m\u001b[0m\n\u001b[0m\u001b[1;32m    458\u001b[0m \u001b[0;34m\u001b[0m\u001b[0m\n\u001b[1;32m    459\u001b[0m     \u001b[0;32mif\u001b[0m \u001b[0mchunksize\u001b[0m \u001b[0;32mor\u001b[0m \u001b[0miterator\u001b[0m\u001b[0;34m:\u001b[0m\u001b[0;34m\u001b[0m\u001b[0;34m\u001b[0m\u001b[0m\n",
      "\u001b[0;32m~/opt/anaconda3/lib/python3.7/site-packages/pandas/io/parsers.py\u001b[0m in \u001b[0;36m__init__\u001b[0;34m(self, f, engine, **kwds)\u001b[0m\n\u001b[1;32m    893\u001b[0m             \u001b[0mself\u001b[0m\u001b[0;34m.\u001b[0m\u001b[0moptions\u001b[0m\u001b[0;34m[\u001b[0m\u001b[0;34m\"has_index_names\"\u001b[0m\u001b[0;34m]\u001b[0m \u001b[0;34m=\u001b[0m \u001b[0mkwds\u001b[0m\u001b[0;34m[\u001b[0m\u001b[0;34m\"has_index_names\"\u001b[0m\u001b[0;34m]\u001b[0m\u001b[0;34m\u001b[0m\u001b[0;34m\u001b[0m\u001b[0m\n\u001b[1;32m    894\u001b[0m \u001b[0;34m\u001b[0m\u001b[0m\n\u001b[0;32m--> 895\u001b[0;31m         \u001b[0mself\u001b[0m\u001b[0;34m.\u001b[0m\u001b[0m_make_engine\u001b[0m\u001b[0;34m(\u001b[0m\u001b[0mself\u001b[0m\u001b[0;34m.\u001b[0m\u001b[0mengine\u001b[0m\u001b[0;34m)\u001b[0m\u001b[0;34m\u001b[0m\u001b[0;34m\u001b[0m\u001b[0m\n\u001b[0m\u001b[1;32m    896\u001b[0m \u001b[0;34m\u001b[0m\u001b[0m\n\u001b[1;32m    897\u001b[0m     \u001b[0;32mdef\u001b[0m \u001b[0mclose\u001b[0m\u001b[0;34m(\u001b[0m\u001b[0mself\u001b[0m\u001b[0;34m)\u001b[0m\u001b[0;34m:\u001b[0m\u001b[0;34m\u001b[0m\u001b[0;34m\u001b[0m\u001b[0m\n",
      "\u001b[0;32m~/opt/anaconda3/lib/python3.7/site-packages/pandas/io/parsers.py\u001b[0m in \u001b[0;36m_make_engine\u001b[0;34m(self, engine)\u001b[0m\n\u001b[1;32m   1133\u001b[0m     \u001b[0;32mdef\u001b[0m \u001b[0m_make_engine\u001b[0m\u001b[0;34m(\u001b[0m\u001b[0mself\u001b[0m\u001b[0;34m,\u001b[0m \u001b[0mengine\u001b[0m\u001b[0;34m=\u001b[0m\u001b[0;34m\"c\"\u001b[0m\u001b[0;34m)\u001b[0m\u001b[0;34m:\u001b[0m\u001b[0;34m\u001b[0m\u001b[0;34m\u001b[0m\u001b[0m\n\u001b[1;32m   1134\u001b[0m         \u001b[0;32mif\u001b[0m \u001b[0mengine\u001b[0m \u001b[0;34m==\u001b[0m \u001b[0;34m\"c\"\u001b[0m\u001b[0;34m:\u001b[0m\u001b[0;34m\u001b[0m\u001b[0;34m\u001b[0m\u001b[0m\n\u001b[0;32m-> 1135\u001b[0;31m             \u001b[0mself\u001b[0m\u001b[0;34m.\u001b[0m\u001b[0m_engine\u001b[0m \u001b[0;34m=\u001b[0m \u001b[0mCParserWrapper\u001b[0m\u001b[0;34m(\u001b[0m\u001b[0mself\u001b[0m\u001b[0;34m.\u001b[0m\u001b[0mf\u001b[0m\u001b[0;34m,\u001b[0m \u001b[0;34m**\u001b[0m\u001b[0mself\u001b[0m\u001b[0;34m.\u001b[0m\u001b[0moptions\u001b[0m\u001b[0;34m)\u001b[0m\u001b[0;34m\u001b[0m\u001b[0;34m\u001b[0m\u001b[0m\n\u001b[0m\u001b[1;32m   1136\u001b[0m         \u001b[0;32melse\u001b[0m\u001b[0;34m:\u001b[0m\u001b[0;34m\u001b[0m\u001b[0;34m\u001b[0m\u001b[0m\n\u001b[1;32m   1137\u001b[0m             \u001b[0;32mif\u001b[0m \u001b[0mengine\u001b[0m \u001b[0;34m==\u001b[0m \u001b[0;34m\"python\"\u001b[0m\u001b[0;34m:\u001b[0m\u001b[0;34m\u001b[0m\u001b[0;34m\u001b[0m\u001b[0m\n",
      "\u001b[0;32m~/opt/anaconda3/lib/python3.7/site-packages/pandas/io/parsers.py\u001b[0m in \u001b[0;36m__init__\u001b[0;34m(self, src, **kwds)\u001b[0m\n\u001b[1;32m   1915\u001b[0m         \u001b[0mkwds\u001b[0m\u001b[0;34m[\u001b[0m\u001b[0;34m\"usecols\"\u001b[0m\u001b[0;34m]\u001b[0m \u001b[0;34m=\u001b[0m \u001b[0mself\u001b[0m\u001b[0;34m.\u001b[0m\u001b[0musecols\u001b[0m\u001b[0;34m\u001b[0m\u001b[0;34m\u001b[0m\u001b[0m\n\u001b[1;32m   1916\u001b[0m \u001b[0;34m\u001b[0m\u001b[0m\n\u001b[0;32m-> 1917\u001b[0;31m         \u001b[0mself\u001b[0m\u001b[0;34m.\u001b[0m\u001b[0m_reader\u001b[0m \u001b[0;34m=\u001b[0m \u001b[0mparsers\u001b[0m\u001b[0;34m.\u001b[0m\u001b[0mTextReader\u001b[0m\u001b[0;34m(\u001b[0m\u001b[0msrc\u001b[0m\u001b[0;34m,\u001b[0m \u001b[0;34m**\u001b[0m\u001b[0mkwds\u001b[0m\u001b[0;34m)\u001b[0m\u001b[0;34m\u001b[0m\u001b[0;34m\u001b[0m\u001b[0m\n\u001b[0m\u001b[1;32m   1918\u001b[0m         \u001b[0mself\u001b[0m\u001b[0;34m.\u001b[0m\u001b[0munnamed_cols\u001b[0m \u001b[0;34m=\u001b[0m \u001b[0mself\u001b[0m\u001b[0;34m.\u001b[0m\u001b[0m_reader\u001b[0m\u001b[0;34m.\u001b[0m\u001b[0munnamed_cols\u001b[0m\u001b[0;34m\u001b[0m\u001b[0;34m\u001b[0m\u001b[0m\n\u001b[1;32m   1919\u001b[0m \u001b[0;34m\u001b[0m\u001b[0m\n",
      "\u001b[0;32mpandas/_libs/parsers.pyx\u001b[0m in \u001b[0;36mpandas._libs.parsers.TextReader.__cinit__\u001b[0;34m()\u001b[0m\n",
      "\u001b[0;32mpandas/_libs/parsers.pyx\u001b[0m in \u001b[0;36mpandas._libs.parsers.TextReader._setup_parser_source\u001b[0;34m()\u001b[0m\n",
      "\u001b[0;31mFileNotFoundError\u001b[0m: [Errno 2] File b'drive/My Drive/1001_project_Total/Data/20170101.csv' does not exist: b'drive/My Drive/1001_project_Total/Data/20170101.csv'"
     ]
    }
   ],
   "source": [
    "df=pd.read_csv(path+\"20170101.csv\")\n",
    "df=df.drop('Unnamed: 0',1)"
   ]
  },
  {
   "cell_type": "code",
   "execution_count": 7,
   "metadata": {
    "colab": {
     "base_uri": "https://localhost:8080/",
     "height": 119
    },
    "colab_type": "code",
    "executionInfo": {
     "elapsed": 19698,
     "status": "ok",
     "timestamp": 1576283055646,
     "user": {
      "displayName": "Haoxue Li",
      "photoUrl": "",
      "userId": "02132541566044588005"
     },
     "user_tz": 300
    },
    "id": "BhqyHy6jW7oN",
    "outputId": "74f46a4d-916b-4890-dca0-756292035b74"
   },
   "outputs": [
    {
     "data": {
      "text/plain": [
       "Index(['profile', 'category1', 'canonicalUrl', 'referrerHostClass',\n",
       "       'sessionStop', 'userId', 'publishtime', 'sessionStart', 'referrerUrl',\n",
       "       'keywords', 'id', 'eventId', 'city', 'title', 'url', 'country',\n",
       "       'region', 'author', 'referrerSearchEngine', 'deviceType', 'time', 'os',\n",
       "       'activeTime'],\n",
       "      dtype='object')"
      ]
     },
     "execution_count": 7,
     "metadata": {
      "tags": []
     },
     "output_type": "execute_result"
    }
   ],
   "source": [
    "df.columns"
   ]
  },
  {
   "cell_type": "markdown",
   "metadata": {
    "colab_type": "text",
    "id": "05ImaTqBW7oS"
   },
   "source": [
    "# Adding Sessions"
   ]
  },
  {
   "cell_type": "code",
   "execution_count": 8,
   "metadata": {
    "colab": {
     "base_uri": "https://localhost:8080/",
     "height": 68
    },
    "colab_type": "code",
    "executionInfo": {
     "elapsed": 20229,
     "status": "ok",
     "timestamp": 1576283059245,
     "user": {
      "displayName": "Haoxue Li",
      "photoUrl": "",
      "userId": "02132541566044588005"
     },
     "user_tz": 300
    },
    "id": "MtvswuaVW7oU",
    "outputId": "0b66567a-e315-484f-f0e9-6ad7aec13561"
   },
   "outputs": [
    {
     "name": "stdout",
     "output_type": "stream",
     "text": [
      "The number of total events by users is:  1513739\n",
      "The number of sessions is:  518675\n",
      "The number of unique users is:  248892\n"
     ]
    }
   ],
   "source": [
    "t=df.sort_values([\"userId\",\"time\"])\n",
    "\n",
    "# according from the dataset description: There is the threshold when computing the “activeTime”, when it is too short then it won’t be account in original dataset\n",
    "t[\"activeTime\"]=t[\"activeTime\"].fillna(0)\n",
    "\n",
    "# find the sessions with total time more than 0 and less than 45 minutes\n",
    "t[\"sessionNo\"]=t[\"sessionStart\"].cumsum()\n",
    "t[\"activeTotalTime\"]=t.groupby('sessionNo')['activeTime'].transform('sum')\n",
    "print(\"The number of total events by users is: \",len(t))\n",
    "print(\"The number of sessions is: \",max(t[\"sessionNo\"]))\n",
    "print(\"The number of unique users is: \",len(t[\"userId\"].unique()))\n",
    "t[\"sessionNo\"]=t[\"sessionStart\"].cumsum()\n",
    "t=t[t[\"activeTotalTime\"]>0]\n",
    "t=t[t[\"activeTotalTime\"]<=2700]"
   ]
  },
  {
   "cell_type": "code",
   "execution_count": 9,
   "metadata": {
    "colab": {
     "base_uri": "https://localhost:8080/",
     "height": 68
    },
    "colab_type": "code",
    "executionInfo": {
     "elapsed": 18970,
     "status": "ok",
     "timestamp": 1576283059245,
     "user": {
      "displayName": "Haoxue Li",
      "photoUrl": "",
      "userId": "02132541566044588005"
     },
     "user_tz": 300
    },
    "id": "JoZubLtQW7oW",
    "outputId": "d001a2c5-7d7b-488b-a2f2-346f7f4defa3"
   },
   "outputs": [
    {
     "name": "stdout",
     "output_type": "stream",
     "text": [
      "The number of total events by users is:  1245204\n",
      "The number of sessions is:  293529\n",
      "The number of unique users is:  148781\n"
     ]
    }
   ],
   "source": [
    "print(\"The number of total events by users is: \",len(t))\n",
    "print(\"The number of sessions is: \",len(t[\"sessionNo\"].unique()))\n",
    "print(\"The number of unique users is: \",len(t[\"userId\"].unique()))"
   ]
  },
  {
   "cell_type": "code",
   "execution_count": 10,
   "metadata": {
    "colab": {
     "base_uri": "https://localhost:8080/",
     "height": 379
    },
    "colab_type": "code",
    "executionInfo": {
     "elapsed": 18246,
     "status": "ok",
     "timestamp": 1576283059246,
     "user": {
      "displayName": "Haoxue Li",
      "photoUrl": "",
      "userId": "02132541566044588005"
     },
     "user_tz": 300
    },
    "id": "WZ2pwI7iW7oY",
    "outputId": "7e64273c-474e-407c-b041-1ccaeeadff1d"
   },
   "outputs": [
    {
     "data": {
      "text/html": [
       "<div>\n",
       "<style scoped>\n",
       "    .dataframe tbody tr th:only-of-type {\n",
       "        vertical-align: middle;\n",
       "    }\n",
       "\n",
       "    .dataframe tbody tr th {\n",
       "        vertical-align: top;\n",
       "    }\n",
       "\n",
       "    .dataframe thead th {\n",
       "        text-align: right;\n",
       "    }\n",
       "</style>\n",
       "<table border=\"1\" class=\"dataframe\">\n",
       "  <thead>\n",
       "    <tr style=\"text-align: right;\">\n",
       "      <th></th>\n",
       "      <th>sessionNo</th>\n",
       "      <th>id</th>\n",
       "      <th>time</th>\n",
       "      <th>sessionStart</th>\n",
       "      <th>sessionStop</th>\n",
       "      <th>activeTime</th>\n",
       "      <th>activeTotalTime</th>\n",
       "    </tr>\n",
       "  </thead>\n",
       "  <tbody>\n",
       "    <tr>\n",
       "      <th>1348419</th>\n",
       "      <td>2</td>\n",
       "      <td>NaN</td>\n",
       "      <td>1483305709</td>\n",
       "      <td>True</td>\n",
       "      <td>False</td>\n",
       "      <td>28.0</td>\n",
       "      <td>81.0</td>\n",
       "    </tr>\n",
       "    <tr>\n",
       "      <th>1349279</th>\n",
       "      <td>2</td>\n",
       "      <td>b28e7c163c39941aa1cbd0b7b3a821576771f893</td>\n",
       "      <td>1483305738</td>\n",
       "      <td>False</td>\n",
       "      <td>False</td>\n",
       "      <td>35.0</td>\n",
       "      <td>81.0</td>\n",
       "    </tr>\n",
       "    <tr>\n",
       "      <th>1350387</th>\n",
       "      <td>2</td>\n",
       "      <td>NaN</td>\n",
       "      <td>1483305778</td>\n",
       "      <td>False</td>\n",
       "      <td>False</td>\n",
       "      <td>6.0</td>\n",
       "      <td>81.0</td>\n",
       "    </tr>\n",
       "    <tr>\n",
       "      <th>1350581</th>\n",
       "      <td>2</td>\n",
       "      <td>4c1af3633d74ba9eb77b2c07c7a8171ba27b10f7</td>\n",
       "      <td>1483305786</td>\n",
       "      <td>False</td>\n",
       "      <td>False</td>\n",
       "      <td>9.0</td>\n",
       "      <td>81.0</td>\n",
       "    </tr>\n",
       "    <tr>\n",
       "      <th>1350878</th>\n",
       "      <td>2</td>\n",
       "      <td>NaN</td>\n",
       "      <td>1483305798</td>\n",
       "      <td>False</td>\n",
       "      <td>False</td>\n",
       "      <td>3.0</td>\n",
       "      <td>81.0</td>\n",
       "    </tr>\n",
       "    <tr>\n",
       "      <th>1350954</th>\n",
       "      <td>2</td>\n",
       "      <td>9d615dd08d92c8e9670fb72b5c78cbc6b52501c4</td>\n",
       "      <td>1483305801</td>\n",
       "      <td>False</td>\n",
       "      <td>False</td>\n",
       "      <td>0.0</td>\n",
       "      <td>81.0</td>\n",
       "    </tr>\n",
       "    <tr>\n",
       "      <th>1351021</th>\n",
       "      <td>2</td>\n",
       "      <td>NaN</td>\n",
       "      <td>1483305804</td>\n",
       "      <td>False</td>\n",
       "      <td>True</td>\n",
       "      <td>0.0</td>\n",
       "      <td>81.0</td>\n",
       "    </tr>\n",
       "    <tr>\n",
       "      <th>326027</th>\n",
       "      <td>4</td>\n",
       "      <td>NaN</td>\n",
       "      <td>1483260167</td>\n",
       "      <td>True</td>\n",
       "      <td>False</td>\n",
       "      <td>86.0</td>\n",
       "      <td>86.0</td>\n",
       "    </tr>\n",
       "    <tr>\n",
       "      <th>328012</th>\n",
       "      <td>4</td>\n",
       "      <td>68d1503c73ad169dcfff48214fd0274c4d612e63</td>\n",
       "      <td>1483260265</td>\n",
       "      <td>False</td>\n",
       "      <td>True</td>\n",
       "      <td>0.0</td>\n",
       "      <td>86.0</td>\n",
       "    </tr>\n",
       "    <tr>\n",
       "      <th>609122</th>\n",
       "      <td>5</td>\n",
       "      <td>NaN</td>\n",
       "      <td>1483271301</td>\n",
       "      <td>True</td>\n",
       "      <td>False</td>\n",
       "      <td>66.0</td>\n",
       "      <td>145.0</td>\n",
       "    </tr>\n",
       "  </tbody>\n",
       "</table>\n",
       "</div>"
      ],
      "text/plain": [
       "         sessionNo  ... activeTotalTime\n",
       "1348419          2  ...            81.0\n",
       "1349279          2  ...            81.0\n",
       "1350387          2  ...            81.0\n",
       "1350581          2  ...            81.0\n",
       "1350878          2  ...            81.0\n",
       "1350954          2  ...            81.0\n",
       "1351021          2  ...            81.0\n",
       "326027           4  ...            86.0\n",
       "328012           4  ...            86.0\n",
       "609122           5  ...           145.0\n",
       "\n",
       "[10 rows x 7 columns]"
      ]
     },
     "execution_count": 10,
     "metadata": {
      "tags": []
     },
     "output_type": "execute_result"
    }
   ],
   "source": [
    "t[[\"sessionNo\",\"id\",\"time\",\"sessionStart\",\"sessionStop\",\"activeTime\",\"activeTotalTime\"]].iloc[0:10]"
   ]
  },
  {
   "cell_type": "code",
   "execution_count": 11,
   "metadata": {
    "colab": {
     "base_uri": "https://localhost:8080/",
     "height": 666
    },
    "colab_type": "code",
    "executionInfo": {
     "elapsed": 17139,
     "status": "ok",
     "timestamp": 1576283059246,
     "user": {
      "displayName": "Haoxue Li",
      "photoUrl": "",
      "userId": "02132541566044588005"
     },
     "user_tz": 300
    },
    "id": "72f60k598lRj",
    "outputId": "a6eebbc2-e855-4d02-a6a0-243f98c92198"
   },
   "outputs": [
    {
     "name": "stdout",
     "output_type": "stream",
     "text": [
      "The length of t is:  374487\n"
     ]
    },
    {
     "data": {
      "text/html": [
       "<div>\n",
       "<style scoped>\n",
       "    .dataframe tbody tr th:only-of-type {\n",
       "        vertical-align: middle;\n",
       "    }\n",
       "\n",
       "    .dataframe tbody tr th {\n",
       "        vertical-align: top;\n",
       "    }\n",
       "\n",
       "    .dataframe thead th {\n",
       "        text-align: right;\n",
       "    }\n",
       "</style>\n",
       "<table border=\"1\" class=\"dataframe\">\n",
       "  <thead>\n",
       "    <tr style=\"text-align: right;\">\n",
       "      <th></th>\n",
       "      <th>profile</th>\n",
       "      <th>category1</th>\n",
       "      <th>canonicalUrl</th>\n",
       "      <th>referrerHostClass</th>\n",
       "      <th>sessionStop</th>\n",
       "      <th>userId</th>\n",
       "      <th>publishtime</th>\n",
       "      <th>sessionStart</th>\n",
       "      <th>referrerUrl</th>\n",
       "      <th>keywords</th>\n",
       "      <th>id</th>\n",
       "      <th>eventId</th>\n",
       "      <th>city</th>\n",
       "      <th>title</th>\n",
       "      <th>url</th>\n",
       "      <th>country</th>\n",
       "      <th>region</th>\n",
       "      <th>author</th>\n",
       "      <th>referrerSearchEngine</th>\n",
       "      <th>deviceType</th>\n",
       "      <th>time</th>\n",
       "      <th>os</th>\n",
       "      <th>activeTime</th>\n",
       "      <th>sessionNo</th>\n",
       "      <th>activeTotalTime</th>\n",
       "      <th>articleId</th>\n",
       "    </tr>\n",
       "  </thead>\n",
       "  <tbody>\n",
       "    <tr>\n",
       "      <th>1349279</th>\n",
       "      <td>[{'item': '0', 'groups': [{'count': 1, 'group'...</td>\n",
       "      <td>100sport|vintersport</td>\n",
       "      <td>http://www.adressa.no/100Sport/vintersport/lan...</td>\n",
       "      <td>search</td>\n",
       "      <td>False</td>\n",
       "      <td>cx:0049d95b7c3a854f8c1edb0a13197e71:1zqfs7vo2seov</td>\n",
       "      <td>2017-01-01T14:33:41.000Z</td>\n",
       "      <td>False</td>\n",
       "      <td>http://adressa.no</td>\n",
       "      <td>Petter Northug,Thomas Northug</td>\n",
       "      <td>b28e7c163c39941aa1cbd0b7b3a821576771f893</td>\n",
       "      <td>950557625</td>\n",
       "      <td>oslo</td>\n",
       "      <td>To av tre Northug-brødre tilbake for fullt: Ti...</td>\n",
       "      <td>http://adressa.no/100sport/langrenn_old/to-av-...</td>\n",
       "      <td>no</td>\n",
       "      <td>oslo</td>\n",
       "      <td>ole k. sagbakken</td>\n",
       "      <td>Internal</td>\n",
       "      <td>Desktop</td>\n",
       "      <td>1483305738</td>\n",
       "      <td>Windows</td>\n",
       "      <td>35.0</td>\n",
       "      <td>2</td>\n",
       "      <td>81.0</td>\n",
       "      <td>0</td>\n",
       "    </tr>\n",
       "    <tr>\n",
       "      <th>1350581</th>\n",
       "      <td>[{'item': '0', 'groups': [{'count': 1, 'group'...</td>\n",
       "      <td>NaN</td>\n",
       "      <td>http://www.adressa.no/nyheter/moreromsdal/2017...</td>\n",
       "      <td>search</td>\n",
       "      <td>False</td>\n",
       "      <td>cx:0049d95b7c3a854f8c1edb0a13197e71:1zqfs7vo2seov</td>\n",
       "      <td>NaN</td>\n",
       "      <td>False</td>\n",
       "      <td>http://adressa.no</td>\n",
       "      <td>NaN</td>\n",
       "      <td>4c1af3633d74ba9eb77b2c07c7a8171ba27b10f7</td>\n",
       "      <td>806540643</td>\n",
       "      <td>oslo</td>\n",
       "      <td>Kvinne omkommet etter ulykke på E39</td>\n",
       "      <td>http://adressa.no/nyheter/moreromsdal/2017/01/...</td>\n",
       "      <td>no</td>\n",
       "      <td>oslo</td>\n",
       "      <td>NaN</td>\n",
       "      <td>Internal</td>\n",
       "      <td>Desktop</td>\n",
       "      <td>1483305786</td>\n",
       "      <td>Windows</td>\n",
       "      <td>9.0</td>\n",
       "      <td>2</td>\n",
       "      <td>81.0</td>\n",
       "      <td>1</td>\n",
       "    </tr>\n",
       "    <tr>\n",
       "      <th>1350954</th>\n",
       "      <td>[{'item': '0', 'groups': [{'count': 1, 'group'...</td>\n",
       "      <td>NaN</td>\n",
       "      <td>http://www.adressa.no/nyheter/nordtrondelag/20...</td>\n",
       "      <td>internal</td>\n",
       "      <td>False</td>\n",
       "      <td>cx:0049d95b7c3a854f8c1edb0a13197e71:1zqfs7vo2seov</td>\n",
       "      <td>NaN</td>\n",
       "      <td>False</td>\n",
       "      <td>http://adressa.no</td>\n",
       "      <td>NaN</td>\n",
       "      <td>9d615dd08d92c8e9670fb72b5c78cbc6b52501c4</td>\n",
       "      <td>1926247176</td>\n",
       "      <td>oslo</td>\n",
       "      <td>Bil av veien i Meråker</td>\n",
       "      <td>http://adressa.no/nyheter/nordtrondelag/2017/0...</td>\n",
       "      <td>no</td>\n",
       "      <td>oslo</td>\n",
       "      <td>NaN</td>\n",
       "      <td>NaN</td>\n",
       "      <td>Desktop</td>\n",
       "      <td>1483305801</td>\n",
       "      <td>Windows</td>\n",
       "      <td>0.0</td>\n",
       "      <td>2</td>\n",
       "      <td>81.0</td>\n",
       "      <td>2</td>\n",
       "    </tr>\n",
       "    <tr>\n",
       "      <th>328012</th>\n",
       "      <td>[{'item': '0', 'groups': [{'count': 1, 'group'...</td>\n",
       "      <td>100sport|vintersport</td>\n",
       "      <td>http://www.adressa.no/100Sport/vintersport/lan...</td>\n",
       "      <td>search</td>\n",
       "      <td>True</td>\n",
       "      <td>cx:02b046b0db0d02e5dadcdb2d4c3d7e53:24ik5bzhn1crw</td>\n",
       "      <td>2016-12-31T18:06:21.000Z</td>\n",
       "      <td>False</td>\n",
       "      <td>http://adressa.no</td>\n",
       "      <td>Tour de ski,Langrenn</td>\n",
       "      <td>68d1503c73ad169dcfff48214fd0274c4d612e63</td>\n",
       "      <td>1292992944</td>\n",
       "      <td>brumunddal</td>\n",
       "      <td>Her koker det over for Tønseth. Så stakk han f...</td>\n",
       "      <td>http://adressa.no/100sport/vintersport/langren...</td>\n",
       "      <td>no</td>\n",
       "      <td>hedmark</td>\n",
       "      <td>birger løfaldli</td>\n",
       "      <td>Internal</td>\n",
       "      <td>Desktop</td>\n",
       "      <td>1483260265</td>\n",
       "      <td>Windows</td>\n",
       "      <td>0.0</td>\n",
       "      <td>4</td>\n",
       "      <td>86.0</td>\n",
       "      <td>3</td>\n",
       "    </tr>\n",
       "    <tr>\n",
       "      <th>613313</th>\n",
       "      <td>[{'item': '0', 'groups': [{'count': 1, 'group'...</td>\n",
       "      <td>nyheter|trondheim</td>\n",
       "      <td>http://www.adressa.no/nyheter/trondheim/2016/1...</td>\n",
       "      <td>internal</td>\n",
       "      <td>True</td>\n",
       "      <td>cx:02b046b0db0d02e5dadcdb2d4c3d7e53:24ik5bzhn1crw</td>\n",
       "      <td>2016-11-01T09:18:19.000Z</td>\n",
       "      <td>False</td>\n",
       "      <td>http://adressa.no/nyheter/trondheim/2016/12/31...</td>\n",
       "      <td>utenriks,innenriks,trondheim,E6,midtbyen,bybra...</td>\n",
       "      <td>7fee41607635cb686671c95fa0dabe16a2a128f5</td>\n",
       "      <td>2095395787</td>\n",
       "      <td>brumunddal</td>\n",
       "      <td>Nå må du punge ut for piggdekkene</td>\n",
       "      <td>http://adressa.no/nyheter/trondheim/2016/11/01...</td>\n",
       "      <td>no</td>\n",
       "      <td>hedmark</td>\n",
       "      <td>martin andersen</td>\n",
       "      <td>NaN</td>\n",
       "      <td>Desktop</td>\n",
       "      <td>1483271454</td>\n",
       "      <td>Windows</td>\n",
       "      <td>0.0</td>\n",
       "      <td>5</td>\n",
       "      <td>145.0</td>\n",
       "      <td>4</td>\n",
       "    </tr>\n",
       "  </tbody>\n",
       "</table>\n",
       "</div>"
      ],
      "text/plain": [
       "                                                   profile  ... articleId\n",
       "1349279  [{'item': '0', 'groups': [{'count': 1, 'group'...  ...         0\n",
       "1350581  [{'item': '0', 'groups': [{'count': 1, 'group'...  ...         1\n",
       "1350954  [{'item': '0', 'groups': [{'count': 1, 'group'...  ...         2\n",
       "328012   [{'item': '0', 'groups': [{'count': 1, 'group'...  ...         3\n",
       "613313   [{'item': '0', 'groups': [{'count': 1, 'group'...  ...         4\n",
       "\n",
       "[5 rows x 26 columns]"
      ]
     },
     "execution_count": 11,
     "metadata": {
      "tags": []
     },
     "output_type": "execute_result"
    }
   ],
   "source": [
    "t.dropna(subset=[\"id\"],inplace=True)\n",
    "articles=t[\"id\"].unique()\n",
    "d={}\n",
    "for i in range(len(articles)):\n",
    "    article=articles[i]\n",
    "    d[article]=i\n",
    "t[\"articleId\"]=t[\"id\"].map(d)\n",
    "print(\"The length of t is: \",len(t))\n",
    "t.head()"
   ]
  },
  {
   "cell_type": "code",
   "execution_count": null,
   "metadata": {
    "colab": {},
    "colab_type": "code",
    "id": "p4kE6Jdn8XY5"
   },
   "outputs": [],
   "source": [
    "t.to_csv(path+\"20170101_prestage.csv\")"
   ]
  },
  {
   "cell_type": "code",
   "execution_count": 13,
   "metadata": {
    "colab": {
     "base_uri": "https://localhost:8080/",
     "height": 34
    },
    "colab_type": "code",
    "executionInfo": {
     "elapsed": 55274,
     "status": "ok",
     "timestamp": 1576283100223,
     "user": {
      "displayName": "Haoxue Li",
      "photoUrl": "",
      "userId": "02132541566044588005"
     },
     "user_tz": 300
    },
    "id": "fBHoswb_83Ak",
    "outputId": "b0c60059-ed85-4fba-8861-e71ca4feb3ba"
   },
   "outputs": [
    {
     "data": {
      "text/plain": [
       "374487"
      ]
     },
     "execution_count": 13,
     "metadata": {
      "tags": []
     },
     "output_type": "execute_result"
    }
   ],
   "source": [
    "len(t)"
   ]
  },
  {
   "cell_type": "code",
   "execution_count": null,
   "metadata": {
    "colab": {},
    "colab_type": "code",
    "id": "CnZemR8mn2Le"
   },
   "outputs": [],
   "source": []
  }
 ],
 "metadata": {
  "accelerator": "GPU",
  "colab": {
   "collapsed_sections": [],
   "name": "1. Prestage.ipynb",
   "provenance": []
  },
  "kernelspec": {
   "display_name": "Python 3",
   "language": "python",
   "name": "python3"
  },
  "language_info": {
   "codemirror_mode": {
    "name": "ipython",
    "version": 3
   },
   "file_extension": ".py",
   "mimetype": "text/x-python",
   "name": "python",
   "nbconvert_exporter": "python",
   "pygments_lexer": "ipython3",
   "version": "3.7.4"
  }
 },
 "nbformat": 4,
 "nbformat_minor": 4
}
