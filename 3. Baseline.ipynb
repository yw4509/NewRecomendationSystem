{
 "cells": [
  {
   "cell_type": "markdown",
   "metadata": {},
   "source": [
    "<h1>Table of Contents<span class=\"tocSkip\"></span></h1>\n",
    "<div class=\"toc\"><ul class=\"toc-item\">\n",
    "\n",
    "<li><span><a href=\"#For category prediction\" data-toc-modified-id=\"For category prediction-1\"><span class=\"toc-item-num\">1&nbsp;&nbsp;</span>Category Prediction</a></span></li><ul class=\"toc-item\">\n",
    "\n",
    "<li><span><a href=\"#ItemKNN and SKNN\"\n",
    "data-toc-modified-id=\"ItemKNN and SKNN-1.1\"><span class=\"toc-item-num\">1.1&nbsp;&nbsp;</span>Random Prediction</a></span></li>\n",
    "    \n",
    "<li><span><a href=\"#ItemKNN and SKNN\"\n",
    "data-toc-modified-id=\"ItemKNN and SKNN-1.1\"><span class=\"toc-item-num\">1.1&nbsp;&nbsp;</span>Item-to-Item KNN</a></span></li>\n",
    "    \n",
    "<li><span><a href=\"#ItemKNN and SKNN\"\n",
    "data-toc-modified-id=\"ItemKNN and SKNN-1.1\"><span class=\"toc-item-num\">1.1&nbsp;&nbsp;</span>Seesion KNN</a></span></li>\n",
    " \n",
    "<li><span><a href=\"#ItemKNN and SKNN\"\n",
    "data-toc-modified-id=\"ItemKNN and SKNN-1.1\"><span class=\"toc-item-num\">1.1&nbsp;&nbsp;</span>VMKNN</a></span></li></ul>\n",
    "\n",
    "<li><span><a href=\"#For category prediction\" data-toc-modified-id=\"For category prediction-2\"><span class=\"toc-item-num\">2&nbsp;&nbsp;</span>Article prediction</a></span></li><ul class=\"toc-item\">\n",
    "\n",
    "<li><span><a href=\"#ItemKNN and SKNN\"\n",
    "data-toc-modified-id=\"ItemKNN and SKNN-1.1\"><span class=\"toc-item-num\">2.1&nbsp;&nbsp;</span>Random Prediction</a></span></li>\n",
    "    \n",
    "<li><span><a href=\"#ItemKNN and SKNN\"\n",
    "data-toc-modified-id=\"ItemKNN and SKNN-1.1\"><span class=\"toc-item-num\">2.2&nbsp;&nbsp;</span>Item-to-Item KNN</a></span></li>\n",
    "    \n",
    "<li><span><a href=\"#ItemKNN and SKNN\"\n",
    "data-toc-modified-id=\"ItemKNN and SKNN-1.1\"><span class=\"toc-item-num\">2.3&nbsp;&nbsp;</span>Seesion KNN</a></span></li>\n",
    " \n",
    "<li><span><a href=\"#ItemKNN and SKNN\"\n",
    "data-toc-modified-id=\"ItemKNN and SKNN-1.1\"><span class=\"toc-item-num\">2.4&nbsp;&nbsp;</span>VMKNN</a></span></li></ul>\n",
    "\n",
    "</ul></div>"
   ]
  },
  {
   "cell_type": "code",
   "execution_count": 11,
   "metadata": {},
   "outputs": [],
   "source": [
    "import pandas as pd\n",
    "import numpy as np\n",
    "import sys\n",
    "sys.path.append(\"./baseline\")\n",
    "import evaluation\n",
    "import baselines\n",
    "import sknn\n",
    "\n",
    "import vmsknn\n",
    "import iknn"
   ]
  },
  {
   "cell_type": "markdown",
   "metadata": {},
   "source": [
    "# Category prediction"
   ]
  },
  {
   "cell_type": "code",
   "execution_count": 6,
   "metadata": {},
   "outputs": [
    {
     "name": "stdout",
     "output_type": "stream",
     "text": [
      "Full train set\n",
      "\tEvents: 190097\n",
      "\tSessions: 67348\n",
      "\tItems: 40\n",
      "Test set\n",
      "\tEvents: 66876\n",
      "\tSessions: 21499\n",
      "\tItems: 37\n",
      "Train set\n",
      "\tEvents: 141847\n",
      "\tSessions: 51187\n",
      "\tItems: 40\n",
      "Validation set\n",
      "\tEvents: 48250\n",
      "\tSessions: 16161\n",
      "\tItems: 33\n"
     ]
    }
   ],
   "source": [
    "!python ./data/preprocess.py --Path ./data/day_one_category_region_device.csv --Feature True --Try True"
   ]
  },
  {
   "cell_type": "code",
   "execution_count": 2,
   "metadata": {},
   "outputs": [],
   "source": [
    "data = pd.read_csv(\"./data/day_one_train_full.txt\", sep='\\t', dtype={'ItemId':np.int64})\n",
    "test = pd.read_csv(\"./data/day_one_test_full.txt\", sep='\\t', dtype={'ItemId':np.int64})"
   ]
  },
  {
   "cell_type": "markdown",
   "metadata": {},
   "source": [
    "## Random Prediction"
   ]
  },
  {
   "cell_type": "code",
   "execution_count": 8,
   "metadata": {},
   "outputs": [
    {
     "name": "stderr",
     "output_type": "stream",
     "text": [
      "100%|██████████| 66876/66876 [01:13<00:00, 906.62it/s] "
     ]
    },
    {
     "name": "stdout",
     "output_type": "stream",
     "text": [
      "The accuracy of Random Prediction:\n",
      "Recall@20: 0.22659056350133328\n",
      "MRR@20: 0.07115760519191956\n"
     ]
    },
    {
     "name": "stderr",
     "output_type": "stream",
     "text": [
      "\n"
     ]
    }
   ],
   "source": [
    "RP=baselines.RandomPred()\n",
    "RP.fit(data)\n",
    "res = evaluation.evaluate_sessions(RP,test,data)\n",
    "print(\"The accuracy of Random Prediction:\")\n",
    "print('Recall@20: {}'.format(res[0]))\n",
    "print('MRR@20: {}'.format(res[1]))"
   ]
  },
  {
   "cell_type": "markdown",
   "metadata": {},
   "source": [
    "## Item-to-item KNN"
   ]
  },
  {
   "cell_type": "code",
   "execution_count": 9,
   "metadata": {},
   "outputs": [
    {
     "name": "stderr",
     "output_type": "stream",
     "text": [
      "100%|██████████| 66876/66876 [01:47<00:00, 621.44it/s]"
     ]
    },
    {
     "name": "stdout",
     "output_type": "stream",
     "text": [
      "The accuracy of item k-nearest neighbors:\n",
      "Recall@20: 0.6575577935958745\n",
      "MRR@20: 0.3679784283416388\n"
     ]
    },
    {
     "name": "stderr",
     "output_type": "stream",
     "text": [
      "\n"
     ]
    }
   ],
   "source": [
    "iknn=iknn.ItemKNN(data)\n",
    "iknn.fit(data)\n",
    "res = evaluation.evaluate_sessions(iknn,test,data)\n",
    "print(\"The accuracy of item k-nearest neighbors:\")\n",
    "print('Recall@20: {}'.format(res[0]))\n",
    "print('MRR@20: {}'.format(res[1]))"
   ]
  },
  {
   "cell_type": "markdown",
   "metadata": {},
   "source": [
    "## Session KNN"
   ]
  },
  {
   "cell_type": "code",
   "execution_count": 3,
   "metadata": {},
   "outputs": [
    {
     "name": "stderr",
     "output_type": "stream",
     "text": [
      "100%|██████████| 13375/13375 [07:08<00:00, 31.19it/s]"
     ]
    },
    {
     "name": "stdout",
     "output_type": "stream",
     "text": [
      "The accuracy of session k-nearest neighbor:\n",
      "Recall@20: 0.8080563504292317\n",
      "MRR@20: 0.47766780569444295\n"
     ]
    },
    {
     "name": "stderr",
     "output_type": "stream",
     "text": [
      "\n"
     ]
    }
   ],
   "source": [
    "sknn=sknn.SessionKNN(data)\n",
    "sknn.fit(data)\n",
    "res = evaluation.evaluate_sessions(sknn,test,data)\n",
    "print(\"The accuracy of session k-nearest neighbor:\")\n",
    "print('Recall@20: {}'.format(res[0]))\n",
    "print('MRR@20: {}'.format(res[1]))    "
   ]
  },
  {
   "cell_type": "markdown",
   "metadata": {},
   "source": [
    "## Vector Multiplication Session KNN"
   ]
  },
  {
   "cell_type": "code",
   "execution_count": 4,
   "metadata": {},
   "outputs": [
    {
     "name": "stderr",
     "output_type": "stream",
     "text": [
      "100%|██████████| 13375/13375 [04:55<00:00, 45.31it/s]"
     ]
    },
    {
     "name": "stdout",
     "output_type": "stream",
     "text": [
      "The accuracy of session k-nearest neighbor:\n",
      "Recall@20: 0.9318732115342285\n",
      "MRR@20: 0.5027459391563475\n"
     ]
    },
    {
     "name": "stderr",
     "output_type": "stream",
     "text": [
      "\n"
     ]
    }
   ],
   "source": [
    "vmsknn=vmsknn.VMSessionKNN(data)\n",
    "vmsknn.fit(data)\n",
    "res = evaluation.evaluate_sessions(vmsknn,test,data)\n",
    "print(\"The accuracy of session k-nearest neighbor:\")\n",
    "print('Recall@20: {}'.format(res[0]))\n",
    "print('MRR@20: {}'.format(res[1]))    "
   ]
  },
  {
   "cell_type": "markdown",
   "metadata": {},
   "source": [
    "# Article Prediction"
   ]
  },
  {
   "cell_type": "code",
   "execution_count": 8,
   "metadata": {},
   "outputs": [
    {
     "name": "stdout",
     "output_type": "stream",
     "text": [
      "Full train set\n",
      "\tEvents: 187978\n",
      "\tSessions: 66718\n",
      "\tItems: 385\n",
      "Test set\n",
      "\tEvents: 35574\n",
      "\tSessions: 11746\n",
      "\tItems: 267\n",
      "Train set\n",
      "\tEvents: 140275\n",
      "\tSessions: 50721\n",
      "\tItems: 357\n",
      "Validation set\n",
      "\tEvents: 18508\n",
      "\tSessions: 6735\n",
      "\tItems: 237\n"
     ]
    }
   ],
   "source": [
    "!python ./data/preprocess.py --Path ./data/day_one_article_region_device.csv --Feature True --Try True"
   ]
  },
  {
   "cell_type": "code",
   "execution_count": 9,
   "metadata": {},
   "outputs": [],
   "source": [
    "data = pd.read_csv(\"./data/day_one_train_full.txt\", sep='\\t', dtype={'ItemId':np.int64})\n",
    "test = pd.read_csv(\"./data/day_one_test_full.txt\", sep='\\t', dtype={'ItemId':np.int64})"
   ]
  },
  {
   "cell_type": "markdown",
   "metadata": {},
   "source": [
    "## Random Prediction"
   ]
  },
  {
   "cell_type": "code",
   "execution_count": 10,
   "metadata": {},
   "outputs": [
    {
     "name": "stderr",
     "output_type": "stream",
     "text": [
      "100%|██████████| 35574/35574 [00:40<00:00, 887.69it/s]"
     ]
    },
    {
     "name": "stdout",
     "output_type": "stream",
     "text": [
      "The accuracy of Random Prediction:\n",
      "Recall@20: 0.02379553466509988\n",
      "MRR@20: 0.0077107331377517675\n"
     ]
    },
    {
     "name": "stderr",
     "output_type": "stream",
     "text": [
      "\n"
     ]
    }
   ],
   "source": [
    "RP=baselines.RandomPred()\n",
    "RP.fit(data)\n",
    "res = evaluation.evaluate_sessions(RP,test,data)\n",
    "print(\"The accuracy of Random Prediction:\")\n",
    "print('Recall@20: {}'.format(res[0]))\n",
    "print('MRR@20: {}'.format(res[1]))"
   ]
  },
  {
   "cell_type": "markdown",
   "metadata": {},
   "source": [
    "## Item-to-item KNN"
   ]
  },
  {
   "cell_type": "code",
   "execution_count": 5,
   "metadata": {},
   "outputs": [
    {
     "name": "stderr",
     "output_type": "stream",
     "text": [
      "100%|██████████| 35574/35574 [00:51<00:00, 692.57it/s]"
     ]
    },
    {
     "name": "stdout",
     "output_type": "stream",
     "text": [
      "The accuracy of item k-nearest neighbors:\n",
      "Recall@20: 0.4842622125230821\n",
      "MRR@20: 0.18552524907338508\n"
     ]
    },
    {
     "name": "stderr",
     "output_type": "stream",
     "text": [
      "\n"
     ]
    }
   ],
   "source": [
    "iknn=iknn.ItemKNN(data)\n",
    "iknn.fit(data)\n",
    "res = evaluation.evaluate_sessions(iknn,test,data)\n",
    "print(\"The accuracy of item k-nearest neighbors:\")\n",
    "print('Recall@20: {}'.format(res[0]))\n",
    "print('MRR@20: {}'.format(res[1]))"
   ]
  },
  {
   "cell_type": "markdown",
   "metadata": {},
   "source": [
    "## Session KNN"
   ]
  },
  {
   "cell_type": "code",
   "execution_count": 6,
   "metadata": {},
   "outputs": [
    {
     "name": "stderr",
     "output_type": "stream",
     "text": [
      "100%|██████████| 35574/35574 [05:13<00:00, 113.31it/s]"
     ]
    },
    {
     "name": "stdout",
     "output_type": "stream",
     "text": [
      "The accuracy of session k-nearest neighbor:\n",
      "Recall@20: 0.5523753567231828\n",
      "MRR@20: 0.1930098410300281\n"
     ]
    },
    {
     "name": "stderr",
     "output_type": "stream",
     "text": [
      "\n"
     ]
    }
   ],
   "source": [
    "sknn=sknn.SessionKNN(data)\n",
    "sknn.fit(data)\n",
    "res = evaluation.evaluate_sessions(sknn,test,data)\n",
    "print(\"The accuracy of session k-nearest neighbor:\")\n",
    "print('Recall@20: {}'.format(res[0]))\n",
    "print('MRR@20: {}'.format(res[1]))    "
   ]
  },
  {
   "cell_type": "markdown",
   "metadata": {},
   "source": [
    "## VMKNN"
   ]
  },
  {
   "cell_type": "code",
   "execution_count": 7,
   "metadata": {},
   "outputs": [
    {
     "name": "stderr",
     "output_type": "stream",
     "text": [
      "100%|██████████| 35574/35574 [03:53<00:00, 152.13it/s]"
     ]
    },
    {
     "name": "stdout",
     "output_type": "stream",
     "text": [
      "The accuracy of session k-nearest neighbor:\n",
      "Recall@20: 0.6000503609199261\n",
      "MRR@20: 0.2088733476155819\n"
     ]
    },
    {
     "name": "stderr",
     "output_type": "stream",
     "text": [
      "\n"
     ]
    }
   ],
   "source": [
    "vmsknn=vmsknn.VMSessionKNN(data)\n",
    "vmsknn.fit(data)\n",
    "res = evaluation.evaluate_sessions(vmsknn,test,data)\n",
    "print(\"The accuracy of session k-nearest neighbor:\")\n",
    "print('Recall@20: {}'.format(res[0]))\n",
    "print('MRR@20: {}'.format(res[1]))    "
   ]
  },
  {
   "cell_type": "markdown",
   "metadata": {},
   "source": [
    "# Results"
   ]
  },
  {
   "cell_type": "markdown",
   "metadata": {},
   "source": [
    "+ Category Prediction\n",
    "    + Random Prediction:    \n",
    "        Recall@20: 0.2266    \n",
    "        MRR@20: 0.0712\n",
    "    + Item-to-item KNN  \n",
    "        Recall@20: 0.6576   \n",
    "        MRR@20: 0.3680   \n",
    "    + Session KNN     \n",
    "        Recall@20: 0.8081     \n",
    "        MRR@20: 0.4777    \n",
    "    + VMSKNN\n",
    "        Recall@20: 0.9319    \n",
    "        MRR@20: 0.5027   \n",
    "+ Article Prediction\n",
    "    + Random Prediction\n",
    "        Recall@20: 0.0237     \n",
    "        MRR@20: 0.0078\n",
    "    + Item-to-item KNN\n",
    "        Recall@20: 0.4843   \n",
    "        MRR@20: 0.1855  \n",
    "    + Session KNN\n",
    "        Recall@20: 0.5524    \n",
    "        MRR@20: 0.1930      \n",
    "    + VMSKNN\n",
    "        Recall@20: 0.6001    \n",
    "        MRR@20: 0.2089   "
   ]
  },
  {
   "cell_type": "code",
   "execution_count": null,
   "metadata": {},
   "outputs": [],
   "source": []
  }
 ],
 "metadata": {
  "kernelspec": {
   "display_name": "Python 3",
   "language": "python",
   "name": "python3"
  },
  "language_info": {
   "codemirror_mode": {
    "name": "ipython",
    "version": 3
   },
   "file_extension": ".py",
   "mimetype": "text/x-python",
   "name": "python",
   "nbconvert_exporter": "python",
   "pygments_lexer": "ipython3",
   "version": "3.7.4"
  }
 },
 "nbformat": 4,
 "nbformat_minor": 4
}
